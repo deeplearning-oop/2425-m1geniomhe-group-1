{
 "cells": [
  {
   "cell_type": "code",
   "execution_count": 1,
   "metadata": {},
   "outputs": [],
   "source": [
    "import sys\n",
    "import os\n",
    "os.chdir('..')"
   ]
  },
  {
   "cell_type": "code",
   "execution_count": 2,
   "metadata": {},
   "outputs": [],
   "source": [
    "import numpy as np\n",
    "from matplotlib import pyplot as plt\n",
    "\n",
    "from module import Module\n",
    "from linear import Linear\n",
    "from optimizer import SGD\n",
    "from loss import CrossEntropyLoss, MSE\n",
    "from activation import ReLU, Softmax\n",
    "from dataset import MNIST\n",
    "from dataloader import DataLoader\n",
    "from transforms import Compose, ToTensor, Normalize, Standardize\n",
    "from tensor import Tensor"
   ]
  },
  {
   "cell_type": "code",
   "execution_count": 3,
   "metadata": {},
   "outputs": [
    {
     "name": "stdout",
     "output_type": "stream",
     "text": [
      " >>> data/MNIST/raw/t10k-images-idx3-ubyte.gz already exists <<<\n",
      " >>> data/MNIST/raw/t10k-images-idx3-ubyte already exists <<<\n",
      " >>> data/MNIST/raw/train-images-idx3-ubyte.gz already exists <<<\n",
      " >>> data/MNIST/raw/train-images-idx3-ubyte already exists <<<\n",
      " >>> data/MNIST/raw/train-labels-idx1-ubyte.gz already exists <<<\n",
      " >>> data/MNIST/raw/train-labels-idx1-ubyte already exists <<<\n",
      " >>> data/MNIST/raw/t10k-labels-idx1-ubyte.gz already exists <<<\n",
      " >>> data/MNIST/raw/t10k-labels-idx1-ubyte already exists <<<\n",
      ">>> applying ToTensor()...\n",
      " :O already a tensor\n",
      ">>> applying Standardize(inplace=True)...\n",
      ">>> [ToTensor(), Standardize(inplace=True)] applied successfully <<<\n",
      " >>> data/MNIST/raw/t10k-images-idx3-ubyte.gz already exists <<<\n",
      " >>> data/MNIST/raw/t10k-images-idx3-ubyte already exists <<<\n",
      " >>> data/MNIST/raw/train-images-idx3-ubyte.gz already exists <<<\n",
      " >>> data/MNIST/raw/train-images-idx3-ubyte already exists <<<\n",
      " >>> data/MNIST/raw/train-labels-idx1-ubyte.gz already exists <<<\n",
      " >>> data/MNIST/raw/train-labels-idx1-ubyte already exists <<<\n",
      " >>> data/MNIST/raw/t10k-labels-idx1-ubyte.gz already exists <<<\n",
      " >>> data/MNIST/raw/t10k-labels-idx1-ubyte already exists <<<\n",
      ">>> applying ToTensor()...\n",
      " :O already a tensor\n",
      ">>> applying Standardize(inplace=True)...\n",
      ">>> [ToTensor(), Standardize(inplace=True)] applied successfully <<<\n"
     ]
    }
   ],
   "source": [
    "# -- using our implemented dataset module\n",
    "transformation=Compose([ToTensor(), Standardize()])\n",
    "train_data = MNIST(root='data/', train=True, download=True,transform=transformation)\n",
    "test_data = MNIST(root='data/', train=False, download=True,transform=transformation)\n",
    "\n",
    "# -- using our implemented dataloader module\n",
    "train_loader = DataLoader(dataset=train_data, batch_size=32, shuffle=True)\n",
    "test_loader = DataLoader(dataset=test_data, batch_size=32, shuffle=True)"
   ]
  },
  {
   "cell_type": "code",
   "execution_count": 4,
   "metadata": {},
   "outputs": [],
   "source": [
    "# -- model definition\n",
    "class Model(Module):\n",
    "    def __init__(self):\n",
    "        super().__init__()\n",
    "        self.linear1 = Linear(28*28,20)\n",
    "        self.relu=ReLU()\n",
    "        self.linear2 = Linear(20, 10)\n",
    "        self.softmax=Softmax()\n",
    "\n",
    "    def forward(self, x):\n",
    "        x = self.linear1(x)\n",
    "        x = self.relu(x)\n",
    "        x = self.linear2(x)\n",
    "        return self.softmax(x)\n",
    "    \n",
    "model = Model()\n",
    "optimizer = SGD(model.parameters(), lr=0.01, momentum=0.9)\n",
    "loss_fn = CrossEntropyLoss()"
   ]
  },
  {
   "cell_type": "code",
   "execution_count": null,
   "metadata": {},
   "outputs": [
    {
     "name": "stdout",
     "output_type": "stream",
     "text": [
      "Run 1 / 10:\n",
      "Accuracy for run 1: 95.23%\n",
      "------------------\n",
      "Run 2 / 10:\n",
      "Accuracy for run 2: 94.83%\n",
      "------------------\n",
      "Run 3 / 10:\n",
      "Accuracy for run 3: 95.04%\n",
      "------------------\n",
      "Run 4 / 10:\n",
      "Accuracy for run 4: 95.38%\n",
      "------------------\n",
      "Run 5 / 10:\n",
      "Accuracy for run 5: 94.98%\n",
      "------------------\n",
      "Run 6 / 10:\n",
      "Accuracy for run 6: 94.91%\n",
      "------------------\n",
      "Run 7 / 10:\n",
      "Accuracy for run 7: 95.22%\n",
      "------------------\n",
      "Run 8 / 10:\n",
      "Accuracy for run 8: 95.18%\n",
      "------------------\n",
      "Run 9 / 10:\n",
      "Accuracy for run 9: 95.09%\n",
      "------------------\n",
      "Run 10 / 10:\n",
      "Accuracy for run 10: 94.88%\n",
      "------------------\n"
     ]
    }
   ],
   "source": [
    "accuracies = []\n",
    "\n",
    "# -- running the experiment 10 times\n",
    "for run in range(10):\n",
    "    print(f\"Run {run + 1} / 10:\")\n",
    "    \n",
    "    # -- training loop\n",
    "    for epoch in range(1):  # You can adjust the number of epochs as needed\n",
    "        for batch_no, (x, y) in enumerate(train_loader):\n",
    "            # -> flatten the batch (32, 1, 28, 28) to (784, 32)\n",
    "            x = x.flatten_batch()  # (784, 32)\n",
    "\n",
    "            optimizer.zero_grad()\n",
    "            y_hat = model(x)\n",
    "            loss = loss_fn(y, y_hat)\n",
    "            loss.backward()\n",
    "            optimizer.step()\n",
    "    # -- testing\n",
    "    correct = 0\n",
    "    total = 0\n",
    "\n",
    "    for batch_no, (x, y) in enumerate(test_loader):\n",
    "        x = x.flatten_batch()\n",
    "        y_hat = model(x)\n",
    "        predictions = np.argmax(y_hat, axis=0)\n",
    "        correct += np.sum(predictions == y)\n",
    "        total += y.data.size\n",
    "    \n",
    "    accuracy = correct / total * 100\n",
    "    accuracies.append(accuracy)\n",
    "    \n",
    "    print(f'Accuracy for run {run + 1}: {accuracy:.2f}%')\n",
    "    print('------------------')"
   ]
  },
  {
   "cell_type": "code",
   "execution_count": 11,
   "metadata": {},
   "outputs": [
    {
     "ename": "ModuleNotFoundError",
     "evalue": "No module named 'termcolor'",
     "output_type": "error",
     "traceback": [
      "\u001b[0;31m---------------------------------------------------------------------------\u001b[0m",
      "\u001b[0;31mModuleNotFoundError\u001b[0m                       Traceback (most recent call last)",
      "Cell \u001b[0;32mIn[11], line 1\u001b[0m\n\u001b[0;32m----> 1\u001b[0m \u001b[38;5;28;01mfrom\u001b[39;00m \u001b[38;5;21;01mtermcolor\u001b[39;00m \u001b[38;5;28;01mimport\u001b[39;00m colored\n\u001b[1;32m      2\u001b[0m \u001b[38;5;28;01mimport\u001b[39;00m \u001b[38;5;21;01mnumpy\u001b[39;00m \u001b[38;5;28;01mas\u001b[39;00m \u001b[38;5;21;01mnp\u001b[39;00m  \u001b[38;5;66;03m# Ensure numpy is imported if you're using np.argmax\u001b[39;00m\n\u001b[1;32m      4\u001b[0m train_accuracies \u001b[38;5;241m=\u001b[39m []  \n",
      "\u001b[0;31mModuleNotFoundError\u001b[0m: No module named 'termcolor'"
     ]
    }
   ],
   "source": [
    "from termcolor import colored\n",
    "import numpy as np  # Ensure numpy is imported if you're using np.argmax\n",
    "\n",
    "train_accuracies = []  \n",
    "test_accuracies = []   \n",
    "\n",
    "# -- running the experiment 10 times\n",
    "for run in range(10):\n",
    "    print(colored(f\"{'='*10} Run {run + 1} / 10 {'='*10}\", 'cyan', attrs=['bold']))\n",
    "    \n",
    "    # -- training loop\n",
    "    correct_train = 0\n",
    "    total_train = 0\n",
    "    for epoch in range(1):  # You can adjust the number of epochs as needed\n",
    "        for batch_no, (x, y) in enumerate(train_loader):\n",
    "            # -> flatten the batch (32, 1, 28, 28) to (784, 32)\n",
    "            x = x.flatten_batch()  # (784, 32)\n",
    "\n",
    "            optimizer.zero_grad()\n",
    "            y_hat = model(x)\n",
    "            loss = loss_fn(y, y_hat)\n",
    "            loss.backward()\n",
    "            optimizer.step()\n",
    "            \n",
    "            \n",
    "            predictions = np.argmax(y_hat, axis=0)\n",
    "            correct_train += np.sum(predictions == y)\n",
    "            total_train += y.data.size\n",
    "    \n",
    "    train_accuracy = correct_train / total_train * 100\n",
    "    train_accuracies.append(train_accuracy)\n",
    "    print(colored(f\"🎯 Training Accuracy: {train_accuracy:.2f}%\", 'green'))\n",
    "\n",
    "    # -- testing loop\n",
    "    correct_test = 0\n",
    "    total_test = 0\n",
    "    for batch_no, (x, y) in enumerate(test_loader):\n",
    "        x = x.flatten_batch()\n",
    "        y_hat = model(x)\n",
    "        predictions = np.argmax(y_hat, axis=0)\n",
    "        correct_test += np.sum(predictions == y)\n",
    "        total_test += y.data.size\n",
    "    \n",
    "    test_accuracy = correct_test / total_test * 100\n",
    "    test_accuracies.append(test_accuracy)\n",
    "    print(colored(f\"🔍 Testing Accuracy: {test_accuracy:.2f}%\", 'yellow'))\n",
    "    print(colored('-'*30, 'magenta'))\n",
    "\n",
    "print(colored(f\"\\n{'='*15} Summary of Results {'='*15}\", 'blue', attrs=['bold']))\n",
    "for i in range(10):\n",
    "    print(colored(f\"Run {i + 1} - 🏋️ Training: {train_accuracies[i]:.2f}% | 🧪 Testing: {test_accuracies[i]:.2f}%\", 'white'))\n",
    "print(colored(f\"{'='*50}\", 'blue', attrs=['bold']))\n"
   ]
  },
  {
   "cell_type": "code",
   "execution_count": 7,
   "metadata": {},
   "outputs": [
    {
     "name": "stdout",
     "output_type": "stream",
     "text": [
      "Average Accuracy over 10 runs: 95.07%\n"
     ]
    }
   ],
   "source": [
    "average_accuracy = sum(accuracies) / len(accuracies)\n",
    "print(f'Average Accuracy over 10 runs: {average_accuracy:.2f}%')"
   ]
  },
  {
   "cell_type": "markdown",
   "metadata": {},
   "source": [
    "## PyTorch"
   ]
  },
  {
   "cell_type": "code",
   "execution_count": 8,
   "metadata": {},
   "outputs": [
    {
     "name": "stdout",
     "output_type": "stream",
     "text": [
      "Run 1 / 10:\n",
      "Pytorch Accuracy for run 1: 76.02%\n",
      "------------------\n",
      "Run 2 / 10:\n",
      "Pytorch Accuracy for run 2: 85.06%\n",
      "------------------\n",
      "Run 3 / 10:\n",
      "Pytorch Accuracy for run 3: 85.46%\n",
      "------------------\n",
      "Run 4 / 10:\n",
      "Pytorch Accuracy for run 4: 91.65%\n",
      "------------------\n",
      "Run 5 / 10:\n",
      "Pytorch Accuracy for run 5: 92.75%\n",
      "------------------\n",
      "Run 6 / 10:\n",
      "Pytorch Accuracy for run 6: 93.35%\n",
      "------------------\n",
      "Run 7 / 10:\n",
      "Pytorch Accuracy for run 7: 93.18%\n",
      "------------------\n",
      "Run 8 / 10:\n",
      "Pytorch Accuracy for run 8: 93.96%\n",
      "------------------\n",
      "Run 9 / 10:\n",
      "Pytorch Accuracy for run 9: 94.25%\n",
      "------------------\n",
      "Run 10 / 10:\n",
      "Pytorch Accuracy for run 10: 93.75%\n",
      "------------------\n"
     ]
    }
   ],
   "source": [
    "import torch\n",
    "import torch.nn as nn\n",
    "import torch.optim as optim\n",
    "import torchvision\n",
    "from torchvision import datasets, transforms\n",
    "\n",
    "transform = transforms.Compose([transforms.ToTensor(), transforms.Normalize((0.5,), (0.5,))])\n",
    "trainset = datasets.MNIST('data/', download=True, train=True, transform=transform)\n",
    "trainloader = torch.utils.data.DataLoader(trainset, batch_size=32, shuffle=True)\n",
    "testset = datasets.MNIST('data/', download=True, train=False, transform=transform)\n",
    "testloader = torch.utils.data.DataLoader(testset, batch_size=32, shuffle=True)\n",
    "\n",
    "model = nn.Sequential(nn.Linear(28*28, 20), nn.ReLU(), nn.Linear(20, 10), nn.Softmax(dim=1))\n",
    "optimizer = optim.SGD(model.parameters(), lr=0.01, momentum=0.9)\n",
    "loss_fn = nn.CrossEntropyLoss()\n",
    "\n",
    "# List to store accuracies from each run\n",
    "pytorch_accuracies = []\n",
    "\n",
    "# Run the experiment 10 times\n",
    "for run in range(10):\n",
    "    print(f\"Run {run + 1} / 10:\")\n",
    "    \n",
    "    # -- training loop\n",
    "    for epoch in range(1):  # You can adjust the number of epochs as needed\n",
    "        for batch_no, (x, y) in enumerate(trainloader):\n",
    "            x = x.view(x.shape[0], -1)\n",
    "            optimizer.zero_grad()\n",
    "            y_hat = model(x)\n",
    "            loss = loss_fn(y_hat, y)\n",
    "            loss.backward()\n",
    "            optimizer.step()\n",
    "    \n",
    "    # -- testing\n",
    "    correct = 0\n",
    "    total = 0\n",
    "\n",
    "    with torch.no_grad():  # Disable gradient calculation during testing\n",
    "        for batch_no, (x, y) in enumerate(testloader):\n",
    "            x = x.view(x.shape[0], -1)\n",
    "            y_hat = model(x)\n",
    "            predictions = torch.argmax(y_hat, dim=1)\n",
    "            correct += torch.sum(predictions == y)\n",
    "            total += y.size(0)\n",
    "    \n",
    "    accuracy = correct / total * 100\n",
    "    pytorch_accuracies.append(accuracy)\n",
    "    \n",
    "    print(f'Pytorch Accuracy for run {run + 1}: {accuracy:.2f}%')\n",
    "    print('------------------')"
   ]
  },
  {
   "cell_type": "code",
   "execution_count": 9,
   "metadata": {},
   "outputs": [
    {
     "name": "stdout",
     "output_type": "stream",
     "text": [
      "Average Accuracy over 10 runs: 95.07%\n"
     ]
    }
   ],
   "source": [
    "average_accuracy = sum(accuracies) / len(accuracies)\n",
    "print(f'Average Accuracy over 10 runs: {average_accuracy:.2f}%')"
   ]
  },
  {
   "cell_type": "markdown",
   "metadata": {},
   "source": [
    "## Comparisons"
   ]
  },
  {
   "cell_type": "code",
   "execution_count": 10,
   "metadata": {},
   "outputs": [
    {
     "data": {
      "image/png": "[encoded data removed]",
      "text/plain": [
       "<Figure size 1000x600 with 1 Axes>"
      ]
     },
     "metadata": {},
     "output_type": "display_data"
    }
   ],
   "source": [
    "plt.figure(figsize=(10, 6))\n",
    "plt.plot(range(1, 11), pytorch_accuracies, label='PyTorch Accuracy', marker='o', color='blue')\n",
    "plt.plot(range(1, 11), accuracies, label='Custom Accuracy', marker='x', color='red')\n",
    "\n",
    "plt.xlabel('Run Number')\n",
    "plt.ylabel('Accuracy (%)')\n",
    "plt.title('Comparison of PyTorch and Custom Accuracy over 10 Runs')\n",
    "plt.legend()\n",
    "plt.grid(True)\n",
    "plt.show()"
   ]
  }
 ],
 "metadata": {
  "kernelspec": {
   "display_name": "base",
   "language": "python",
   "name": "python3"
  },
  "language_info": {
   "codemirror_mode": {
    "name": "ipython",
    "version": 3
   },
   "file_extension": ".py",
   "mimetype": "text/x-python",
   "name": "python",
   "nbconvert_exporter": "python",
   "pygments_lexer": "ipython3",
   "version": "3.12.2"
  }
 },
 "nbformat": 4,
 "nbformat_minor": 2
}
