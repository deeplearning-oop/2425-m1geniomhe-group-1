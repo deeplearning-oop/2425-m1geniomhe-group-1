{
 "cells": [
  {
   "cell_type": "markdown",
   "metadata": {},
   "source": [
    "# PyTorch"
   ]
  },
  {
   "cell_type": "code",
   "execution_count": null,
   "metadata": {},
   "outputs": [],
   "source": [
    "# %pip install torch torchvision"
   ]
  },
  {
   "cell_type": "code",
   "execution_count": 10,
   "metadata": {},
   "outputs": [],
   "source": [
    "from torchvision import datasets, transforms\n",
    "\n",
    "dataset = datasets.MNIST('data', train=False, download=True, transform=transforms.ToTensor())"
   ]
  },
  {
   "cell_type": "code",
   "execution_count": null,
   "metadata": {},
   "outputs": [],
   "source": [
    "dataset.__dict__.keys()"
   ]
  },
  {
   "cell_type": "code",
   "execution_count": null,
   "metadata": {},
   "outputs": [],
   "source": [
    "dataset.transform, dataset.target_transform"
   ]
  },
  {
   "cell_type": "code",
   "execution_count": null,
   "metadata": {},
   "outputs": [],
   "source": [
    "dataset.data.shape, dataset.targets.shape, dataset.train"
   ]
  },
  {
   "cell_type": "code",
   "execution_count": null,
   "metadata": {},
   "outputs": [],
   "source": [
    "print(dataset)\n",
    "type(dataset)"
   ]
  },
  {
   "cell_type": "code",
   "execution_count": null,
   "metadata": {},
   "outputs": [],
   "source": [
    "len(dataset)"
   ]
  },
  {
   "cell_type": "markdown",
   "metadata": {},
   "source": [
    "The `torchvision` library contains the modules datasets, dataloaders and transforms.  \n",
    "\n",
    "`MNIST` is designed as a child of datasets.  \n",
    "When loaded, it will download the MNIST dataset and store it within the working directory (here we're in `tests/notebooks/` of the main repo). The following directories and files will be created t10k-images-idx3-ubyte     t10k-labels-idx1-ubyte     train-images-idx3-ubyte     train-labels-idx1-ubyte\n",
    "t10k-images-idx3-ubyte.gz  t10k-labels-idx1-ubyte.gz  train-images-idx3-ubyte.gz  train-labels-idx1-ubyte.gz\n",
    "\n",
    "```text\n",
    "notebooks/ # -- the wd of this notebook --\n",
    "└── data/\n",
    "    └── MNIST/\n",
    "        └── raw/\n",
    "            ├── t10k-images-idx3-ubyte  \n",
    "            ├── t10k-labels-idx1-ubyte\n",
    "            ├── train-images-idx3-ubyte\n",
    "            ├── train-labels-idx1-ubyte\n",
    "            ├── t10k-images-idx3-ubyte.gz\n",
    "            ├── t10k-labels-idx1-ubyte.gz\n",
    "            ├── train-images-idx3-ubyte.gz\n",
    "            └── train-labels-idx1-ubyte.gz\n",
    "\n",
    "```"
   ]
  },
  {
   "cell_type": "code",
   "execution_count": null,
   "metadata": {},
   "outputs": [],
   "source": [
    "bool_tensor=data_w_transform.data == data_wo_transform.data\n",
    "\n",
    "# check if there is one False in it\n",
    "bool_tensor.all()"
   ]
  },
  {
   "cell_type": "code",
   "execution_count": null,
   "metadata": {},
   "outputs": [],
   "source": [
    "data_w_train=datasets.MNIST('data', train=True, download=True, transform=transforms.ToTensor())\n",
    "data_wo_train=datasets.MNIST('data', train=False, download=True, transform=transforms.ToTensor())\n",
    "\n",
    "data_w_train.data.shape, data_wo_train.data.shape"
   ]
  },
  {
   "cell_type": "code",
   "execution_count": 27,
   "metadata": {},
   "outputs": [],
   "source": [
    "data_wo_transform=datasets.MNIST('data', train=False)\n",
    "data_w_transform=datasets.MNIST('data', train=False, transform=transforms.ToTensor())"
   ]
  },
  {
   "cell_type": "code",
   "execution_count": null,
   "metadata": {},
   "outputs": [],
   "source": [
    "data_wo_transform.data.shape"
   ]
  },
  {
   "cell_type": "code",
   "execution_count": null,
   "metadata": {},
   "outputs": [],
   "source": [
    "data_default=datasets.MNIST('data')"
   ]
  },
  {
   "cell_type": "code",
   "execution_count": null,
   "metadata": {},
   "outputs": [],
   "source": [
    "data_default.train, len(data_default)   "
   ]
  },
  {
   "cell_type": "code",
   "execution_count": null,
   "metadata": {},
   "outputs": [],
   "source": [
    "# -- dataset exploration\n",
    "print(dataset.data.shape)\n",
    "print(dataset.targets.shape)\n",
    "dataset.targets.unique() #type tensor (both data - X - and targets - y)"
   ]
  },
  {
   "cell_type": "code",
   "execution_count": null,
   "metadata": {},
   "outputs": [],
   "source": [
    "dataset.data.shape"
   ]
  },
  {
   "cell_type": "code",
   "execution_count": null,
   "metadata": {},
   "outputs": [],
   "source": [
    "dataset_default = datasets.MNIST(root='data')\n",
    "print(f'the default args:\\n\\troot:{dataset_default.root}\\n\\ttransform:{dataset_default.transform}\\n\\ttarget_transform:{dataset_default.target_transform}\\n\\ttransforms:{dataset_default.transforms}\\n\\ttrain:{dataset_default.train}\\n\\tdata:{dataset_default.data}\\n\\ttargets:{dataset_default.targets}')"
   ]
  },
  {
   "cell_type": "markdown",
   "metadata": {},
   "source": [
    "# Our pytorch-wannabe lib code"
   ]
  },
  {
   "cell_type": "markdown",
   "metadata": {},
   "source": [
    "## Data retrieval and loading\n",
    "\n",
    "Main tasks:  \n",
    "* retrieve data from web  \n",
    "* save it in directory  \n",
    "* transform image to tensor through a list intermediate"
   ]
  },
  {
   "cell_type": "markdown",
   "metadata": {},
   "source": [
    "### Image transformation"
   ]
  },
  {
   "cell_type": "markdown",
   "metadata": {},
   "source": [
    "#### playground"
   ]
  },
  {
   "cell_type": "code",
   "execution_count": 8,
   "metadata": {},
   "outputs": [],
   "source": [
    "from PIL import Image\n",
    "import numpy as np"
   ]
  },
  {
   "cell_type": "code",
   "execution_count": 4,
   "metadata": {},
   "outputs": [],
   "source": [
    "#fucntion that takes an image and converst it to a list of pixels using PIL\n",
    "image_path='../test/ibm-nn.png'\n",
    "image = Image.open(image_path)"
   ]
  },
  {
   "cell_type": "code",
   "execution_count": null,
   "metadata": {},
   "outputs": [],
   "source": [
    "image = Image.open(image_path)\n",
    "\n",
    "# Convert image to RGB mode (if not already in RGB)\n",
    "image = image.convert(\"RGB\")\n",
    "\n",
    "# Get the pixel data as a 3D list\n",
    "pixels = list(image.getdata())\n",
    "\n",
    "# Reshape into a 3D list [rows][columns][RGB]\n",
    "width, height = image.size\n",
    "pixels_3d = [pixels[i * width:(i + 1) * width] for i in range(height)]\n",
    "\n",
    "# Print or access the pixel data\n",
    "# print(pixels_3d[0][0])  # First pixel's RGB values\n",
    "np.array(pixels_3d).shape"
   ]
  },
  {
   "cell_type": "code",
   "execution_count": null,
   "metadata": {},
   "outputs": [],
   "source": [
    "np.array(pixels_3d).shape"
   ]
  },
  {
   "cell_type": "code",
   "execution_count": null,
   "metadata": {},
   "outputs": [],
   "source": [
    "image = Image.open(image_path)\n",
    "\n",
    "# Convert image to L mode\n",
    "image = image.convert(\"L\")\n",
    "\n",
    "# Get the pixel data as a 3D list\n",
    "pixels = list(image.getdata())\n",
    "\n",
    "# Reshape into a 2D liat\n",
    "width, height = image.size\n",
    "pixels_2d = [pixels[i * width:(i + 1) * width] for i in range(height)]\n",
    "\n",
    "# Print or access the pixel data\n",
    "# print(pixels_2d)  # First pixel's RGB values\n",
    "np.array(pixels_2d).shape"
   ]
  },
  {
   "cell_type": "code",
   "execution_count": null,
   "metadata": {},
   "outputs": [],
   "source": [
    "image.convert(\"RGB\")==image"
   ]
  },
  {
   "cell_type": "code",
   "execution_count": null,
   "metadata": {},
   "outputs": [],
   "source": [
    "image.size"
   ]
  },
  {
   "cell_type": "code",
   "execution_count": null,
   "metadata": {},
   "outputs": [],
   "source": [
    "pixels=list(image.convert(\"RGB\").getdata())\n",
    "pixels\n",
    "\n",
    "pixels = [list(pixels[i * image.width:(i + 1) * image.width]) for i in range(image.height)]\n",
    "pixels"
   ]
  },
  {
   "cell_type": "code",
   "execution_count": null,
   "metadata": {},
   "outputs": [],
   "source": [
    "import cv2 #quite faster than PIL\n",
    "\n",
    "# Load the image\n",
    "image_path = \"../ibm-nn.png\"  # Replace with your image file path\n",
    "image = cv2.imread(image_path)\n",
    "\n",
    "# Convert BGR (OpenCV default) to RGB\n",
    "image = cv2.cvtColor(image, cv2.COLOR_BGR2RGB)\n",
    "\n",
    "# Convert the NumPy array to a Python list\n",
    "pixels_3d = image.tolist()\n",
    "\n",
    "# Print or access the pixel data\n",
    "print(pixels_3d[0][0])  # First pixel's RGB values\n"
   ]
  },
  {
   "cell_type": "code",
   "execution_count": null,
   "metadata": {},
   "outputs": [],
   "source": [
    "len(pixels_3d) #height\n",
    "len(pixels_3d[0]) #width\n",
    "len(pixels_3d[0][0]) #RGB - nb of channels (3d)"
   ]
  },
  {
   "cell_type": "code",
   "execution_count": null,
   "metadata": {},
   "outputs": [],
   "source": [
    "import requests\n",
    "from pathlib import Path\n",
    "import gunzip\n",
    "\n",
    "path=Path('data/test')\n",
    "path.mkdir(exist_ok=True)\n",
    "\n",
    "url='https://yann.lecun.com/exdb/mnist/train-images-idx3-ubyte.gz'\n",
    "filename=url.split('/')[-1]\n",
    "filepath=path/filename\n",
    "\n",
    "# check if file i present\n",
    "if filepath.exists():\n",
    "    print(f'{filepath} already exists')\n",
    "else:\n",
    "    print(f'downloading {filename}')\n",
    "    r=requests.get(url)\n",
    "    filepath.write_bytes(r.content)"
   ]
  },
  {
   "cell_type": "code",
   "execution_count": null,
   "metadata": {},
   "outputs": [],
   "source": [
    "import requests\n",
    "\n",
    "url = \"https://yann.lecun.com/exdb/mnist/t10k-labels-idx1-ubyte.gz\"\n",
    "output_file = \"t10k-labels-idx1-ubyte.gz\"\n",
    "\n",
    "headers = {\n",
    "    \"User-Agent\": \"Mozilla/5.0 (Windows NT 10.0; Win64; x64) AppleWebKit/537.36 (KHTML, like Gecko) Chrome/114.0.0.0 Safari/537.36\"\n",
    "}\n",
    "\n",
    "try:\n",
    "    response = requests.get(url, headers=headers)\n",
    "    if response.status_code == 200:\n",
    "        with open(output_file, \"wb\") as f:\n",
    "            f.write(response.content)\n",
    "        print(f\"File downloaded successfully as '{output_file}'.\")\n",
    "    else:\n",
    "        print(f\"Failed to download file. Status code: {response.status_code}\")\n",
    "except Exception as e:\n",
    "    print(f\"An error occurred: {e}\")\n"
   ]
  },
  {
   "cell_type": "code",
   "execution_count": null,
   "metadata": {},
   "outputs": [],
   "source": [
    "p='../test/ibm-nn.png'\n",
    "P=Path(p)\n",
    "P\n",
    "\n",
    "import os\n",
    "os.path.exists(P)\n",
    "\n",
    "# os.mkdir()"
   ]
  },
  {
   "cell_type": "code",
   "execution_count": null,
   "metadata": {},
   "outputs": [],
   "source": [
    "\n",
    "\n",
    "#gunzipping and checking before if guznipped\n",
    "#make a filename without the .gz extension\n",
    "filename_no_gz=filename.replace('.gz','')\n",
    "filepath_no_gz=path/filename_no_gz\n",
    "if filepath_no_gz.exists():\n",
    "    print(f'{filepath_no_gz} already exists')\n",
    "else:\n",
    "    with open(filepath, 'rb') as f:\n",
    "        file_content = f.read()\n",
    "        gunzip_content = gunzip.decompress(file_content)\n",
    "        with open(filepath_no_gz, 'wb') as f:\n",
    "            f.write(gunzip_content)"
   ]
  },
  {
   "cell_type": "code",
   "execution_count": null,
   "metadata": {},
   "outputs": [],
   "source": [
    "import gzip\n",
    "import shutil\n",
    "\n",
    "def decompress_gz(filepath):\n",
    "    filepath_no_gz = filepath.rstrip('.gz')\n",
    "    with gzip.open(filepath, 'rb') as f_in:\n",
    "        with open(filepath_no_gz, 'wb') as f_out:\n",
    "            shutil.copyfileobj(f_in, f_out)\n",
    "\n",
    "# Example usage\n",
    "decompress_gz(filepath)"
   ]
  },
  {
   "cell_type": "code",
   "execution_count": null,
   "metadata": {},
   "outputs": [],
   "source": [
    "import gzip\n",
    "import shutil\n",
    "import os\n",
    "\n",
    "def decompress_gz(input_gz_path):\n",
    "    \"\"\"\n",
    "    Decompresses a .gz file to a regular file with the same name minus the .gz extension.\n",
    "\n",
    "    Args:\n",
    "        input_gz_path (str): Path to the .gz compressed file.\n",
    "\n",
    "    Returns:\n",
    "        str: Path to the decompressed file.\n",
    "    \"\"\"\n",
    "    # Derive the output file path by removing the .gz extension\n",
    "    if not input_gz_path.endswith('.gz'):\n",
    "        raise ValueError(\"Input file must have a .gz extension.\")\n",
    "    \n",
    "    output_file_path = input_gz_path[:-3]\n",
    "    \n",
    "    try:\n",
    "        with gzip.open(input_gz_path, 'rb') as gz_file:\n",
    "            with open(output_file_path, 'wb') as out_file:\n",
    "                shutil.copyfileobj(gz_file, out_file)\n",
    "        print(f\"Decompressed '{input_gz_path}' to '{output_file_path}' successfully.\")\n",
    "        return output_file_path\n",
    "    except FileNotFoundError:\n",
    "        print(f\"Error: File '{input_gz_path}' not found.\")\n",
    "    except Exception as e:\n",
    "        print(f\"An error occurred: {e}\")\n",
    "\n",
    "# Example usage:\n",
    "# decompress_gz('example.gz')\n",
    "\n",
    "decompress_gz(filepath)"
   ]
  },
  {
   "cell_type": "code",
   "execution_count": null,
   "metadata": {},
   "outputs": [],
   "source": [
    "%pip install gunzip"
   ]
  },
  {
   "cell_type": "code",
   "execution_count": null,
   "metadata": {},
   "outputs": [],
   "source": [
    "import requests\n",
    "from pathlib import Path\n",
    "import gzip\n",
    "\n",
    "path=Path('data/test')\n",
    "path.mkdir(exist_ok=True)\n",
    "headers = {\n",
    "    \"User-Agent\": \"Mozilla/5.0 (Windows NT 10.0; Win64; x64) AppleWebKit/537.36 (KHTML, like Gecko) Chrome/114.0.0.0 Safari/537.36\"\n",
    "}\n",
    "url='https://ossci-datasets.s3.amazonaws.com/mnist/t10k-labels-idx1-ubyte.gz'\n",
    "filename=url.split('/')[-1]\n",
    "filepath=path/filename\n",
    "\n",
    "try:\n",
    "    response = requests.get(url, headers=headers)\n",
    "    if response.status_code == 200:\n",
    "        with open(filepath, \"wb\") as f:\n",
    "            f.write(response.content)\n",
    "        print(f\"File downloaded successfully as '{filepath}'.\")\n",
    "    else:\n",
    "        print(f\"Failed to download file. Status code: {response.status_code}\")\n",
    "except Exception as e:\n",
    "    print(f\"An error occurred: {e}\")"
   ]
  },
  {
   "cell_type": "code",
   "execution_count": 14,
   "metadata": {},
   "outputs": [],
   "source": [
    "filename_no_gz=filename.replace('.gz','')\n",
    "filepath_no_gz=path/filename_no_gz\n",
    "if filepath_no_gz.exists():\n",
    "    print(f'{filepath_no_gz} already exists')\n",
    "else:\n",
    "    with open(filepath, 'rb') as f:\n",
    "        file_content = f.read()\n",
    "        gunzip_content = gzip.decompress(file_content)\n",
    "        with open(filepath_no_gz, 'wb') as f:\n",
    "            f.write(gunzip_content)"
   ]
  }
 ],
 "metadata": {
  "kernelspec": {
   "display_name": "base",
   "language": "python",
   "name": "python3"
  },
  "language_info": {
   "codemirror_mode": {
    "name": "ipython",
    "version": 3
   },
   "file_extension": ".py",
   "mimetype": "text/x-python",
   "name": "python",
   "nbconvert_exporter": "python",
   "pygments_lexer": "ipython3",
   "version": "3.12.2"
  }
 },
 "nbformat": 4,
 "nbformat_minor": 2
}
