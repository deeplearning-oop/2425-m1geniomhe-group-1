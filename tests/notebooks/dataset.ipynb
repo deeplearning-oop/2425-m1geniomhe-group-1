{
 "cells": [
  {
   "cell_type": "markdown",
   "metadata": {},
   "source": [
    "# PyTorch"
   ]
  },
  {
   "cell_type": "code",
   "execution_count": null,
   "metadata": {},
   "outputs": [],
   "source": [
    "# %pip install torch torchvision"
   ]
  },
  {
   "cell_type": "code",
   "execution_count": null,
   "metadata": {},
   "outputs": [],
   "source": [
    "from torchvision import datasets, transforms\n",
    "\n",
    "dataset = datasets.MNIST('data', train=True, download=True, transform=transforms.ToTensor())"
   ]
  },
  {
   "cell_type": "code",
   "execution_count": null,
   "metadata": {},
   "outputs": [],
   "source": [
    "print(dataset)\n",
    "type(dataset)"
   ]
  },
  {
   "cell_type": "markdown",
   "metadata": {},
   "source": [
    "The `torchvision` library contains the modules datasets, dataloaders and transforms.  \n",
    "\n",
    "`MNIST` is designed as a child of datasets.  \n",
    "When loaded, it will download the MNIST dataset and store it within the working directory (here we're in `tests/notebooks/` of the main repo). The following directories and files will be created t10k-images-idx3-ubyte     t10k-labels-idx1-ubyte     train-images-idx3-ubyte     train-labels-idx1-ubyte\n",
    "t10k-images-idx3-ubyte.gz  t10k-labels-idx1-ubyte.gz  train-images-idx3-ubyte.gz  train-labels-idx1-ubyte.gz\n",
    "\n",
    "```text\n",
    "notebooks/ # -- the wd of this notebook --\n",
    "└── data/\n",
    "    └── MNIST/\n",
    "        └── raw/\n",
    "            ├── t10k-images-idx3-ubyte  \n",
    "            ├── t10k-labels-idx1-ubyte\n",
    "            ├── train-images-idx3-ubyte\n",
    "            ├── train-labels-idx1-ubyte\n",
    "            ├── t10k-images-idx3-ubyte.gz\n",
    "            ├── t10k-labels-idx1-ubyte.gz\n",
    "            ├── train-images-idx3-ubyte.gz\n",
    "            └── train-labels-idx1-ubyte.gz\n",
    "\n",
    "```"
   ]
  },
  {
   "cell_type": "code",
   "execution_count": null,
   "metadata": {},
   "outputs": [],
   "source": [
    "# -- dataset exploration\n",
    "print(dataset.data.shape)\n",
    "print(dataset.targets.shape)\n",
    "dataset.targets.unique() #type tensor (both data - X - and targets - y)"
   ]
  },
  {
   "cell_type": "code",
   "execution_count": null,
   "metadata": {},
   "outputs": [],
   "source": [
    "dataset.data.shape"
   ]
  },
  {
   "cell_type": "code",
   "execution_count": null,
   "metadata": {},
   "outputs": [],
   "source": [
    "dataset_default = datasets.MNIST(root='data')\n",
    "print(f'the default args:\\n\\troot:{dataset_default.root}\\n\\ttransform:{dataset_default.transform}\\n\\ttarget_transform:{dataset_default.target_transform}\\n\\ttransforms:{dataset_default.transforms}\\n\\ttrain:{dataset_default.train}\\n\\tdata:{dataset_default.data}\\n\\ttargets:{dataset_default.targets}')"
   ]
  },
  {
   "cell_type": "markdown",
   "metadata": {},
   "source": [
    "# Our pytorch-wannabe lib code"
   ]
  },
  {
   "cell_type": "markdown",
   "metadata": {},
   "source": [
    "## Data retrieval and loading\n",
    "\n",
    "Main tasks:  \n",
    "* retrieve data from web  \n",
    "* save it in directory  \n",
    "* transform image to tensor through a list intermediate"
   ]
  },
  {
   "cell_type": "markdown",
   "metadata": {},
   "source": [
    "### Image transformation"
   ]
  },
  {
   "cell_type": "markdown",
   "metadata": {},
   "source": [
    "#### playground"
   ]
  },
  {
   "cell_type": "code",
   "execution_count": 44,
   "metadata": {},
   "outputs": [],
   "source": [
    "from PIL import Image"
   ]
  },
  {
   "cell_type": "code",
   "execution_count": 14,
   "metadata": {},
   "outputs": [],
   "source": [
    "#fucntion that takes an image and converst it to a list of pixels using PIL\n",
    "image_path='../ibm-nn.png'\n",
    "image = Image.open(image_path)"
   ]
  },
  {
   "cell_type": "code",
   "execution_count": null,
   "metadata": {},
   "outputs": [],
   "source": [
    "image = Image.open(image_path)\n",
    "\n",
    "# Convert image to RGB mode (if not already in RGB)\n",
    "image = image.convert(\"RGB\")\n",
    "\n",
    "# Get the pixel data as a 3D list\n",
    "pixels = list(image.getdata())\n",
    "\n",
    "# Reshape into a 3D list [rows][columns][RGB]\n",
    "width, height = image.size\n",
    "pixels_3d = [pixels[i * width:(i + 1) * width] for i in range(height)]\n",
    "\n",
    "# Print or access the pixel data\n",
    "print(pixels_3d[0][0])  # First pixel's RGB values"
   ]
  },
  {
   "cell_type": "code",
   "execution_count": null,
   "metadata": {},
   "outputs": [],
   "source": [
    "image.convert(\"RGB\")==image"
   ]
  },
  {
   "cell_type": "code",
   "execution_count": null,
   "metadata": {},
   "outputs": [],
   "source": [
    "image.size"
   ]
  },
  {
   "cell_type": "code",
   "execution_count": null,
   "metadata": {},
   "outputs": [],
   "source": [
    "pixels=list(image.convert(\"RGB\").getdata())\n",
    "pixels\n",
    "\n",
    "pixels = [list(pixels[i * image.width:(i + 1) * image.width]) for i in range(image.height)]\n",
    "pixels"
   ]
  },
  {
   "cell_type": "code",
   "execution_count": null,
   "metadata": {},
   "outputs": [],
   "source": [
    "import cv2 #quite faster than PIL\n",
    "\n",
    "# Load the image\n",
    "image_path = \"../ibm-nn.png\"  # Replace with your image file path\n",
    "image = cv2.imread(image_path)\n",
    "\n",
    "# Convert BGR (OpenCV default) to RGB\n",
    "image = cv2.cvtColor(image, cv2.COLOR_BGR2RGB)\n",
    "\n",
    "# Convert the NumPy array to a Python list\n",
    "pixels_3d = image.tolist()\n",
    "\n",
    "# Print or access the pixel data\n",
    "print(pixels_3d[0][0])  # First pixel's RGB values\n"
   ]
  },
  {
   "cell_type": "code",
   "execution_count": null,
   "metadata": {},
   "outputs": [],
   "source": [
    "len(pixels_3d) #height\n",
    "len(pixels_3d[0]) #width\n",
    "len(pixels_3d[0][0]) #RGB - nb of channels (3d)"
   ]
  }
 ],
 "metadata": {
  "kernelspec": {
   "display_name": "base",
   "language": "python",
   "name": "python3"
  },
  "language_info": {
   "codemirror_mode": {
    "name": "ipython",
    "version": 3
   },
   "file_extension": ".py",
   "mimetype": "text/x-python",
   "name": "python",
   "nbconvert_exporter": "python",
   "pygments_lexer": "ipython3",
   "version": "3.12.2"
  }
 },
 "nbformat": 4,
 "nbformat_minor": 2
}
