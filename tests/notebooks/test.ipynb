{
 "cells": [
  {
   "cell_type": "code",
   "execution_count": 2,
   "metadata": {},
   "outputs": [
    {
     "name": "stdout",
     "output_type": "stream",
     "text": [
      "Validating input at att1\n",
      "attributes are: {'_Foo__att1': 1}\n",
      "checking self.__att1: 1\n"
     ]
    }
   ],
   "source": [
    "class Foo:\n",
    "    def __init__(self,att1):\n",
    "        self.__att1=att1\n",
    "\n",
    "    @staticmethod\n",
    "    def validate_inp(att):\n",
    "        if att: #if not None, valid\n",
    "            return True\n",
    "        else:\n",
    "            return False\n",
    "\n",
    "    @property\n",
    "    def att1(self):\n",
    "        return self.__att1\n",
    "    @att1.setter\n",
    "    def att1(self,att1):\n",
    "        self.__att1=att1\n",
    "\n",
    "    def __setattr__(self, name, value):\n",
    "        if name == '_Foo__att1':\n",
    "            print(\"Validating input at att1\")\n",
    "            if Foo.validate_inp(value):\n",
    "                # self.__dict__['_Foo__att1'] = value #this works\n",
    "                super.__setattr__(self,'_Foo__att1',value)\n",
    "                print('attributes are:',self.__dict__)\n",
    "            else:\n",
    "                raise ValueError(\"Invalid input\")\n",
    "        else:\n",
    "            self.__dict__[name] = value\n",
    "\n",
    "    def test(self):\n",
    "        print('checking self.__att1:',self.__att1)\n",
    "\n",
    "f=Foo(1)\n",
    "f.test()"
   ]
  },
  {
   "cell_type": "code",
   "execution_count": 1,
   "metadata": {},
   "outputs": [
    {
     "name": "stdout",
     "output_type": "stream",
     "text": [
      "scalar: Tensor(1.0,float64)\n",
      "dimensions:[],ndim:0\n"
     ]
    }
   ],
   "source": [
    "import sys\n",
    "sys.path.append('../modules')\n",
    "from tensor import *\n",
    "\n",
    "scalar=tensor(1)\n",
    "print('scalar:',scalar)\n",
    "print(f'dimensions:{scalar.shape},ndim:{scalar.ndim}')\n",
    "\n",
    "vector=tensor([1,2,3])\n",
    "# print('vector:',vector)\n",
    "# print(f'dimensions:{vector.shape},ndim:{vector.ndim}')\n",
    "matrix=tensor([[1,2,3],[4,5,6]])"
   ]
  },
  {
   "cell_type": "code",
   "execution_count": 2,
   "metadata": {},
   "outputs": [
    {
     "data": {
      "text/plain": [
       "[30, 36, 42]"
      ]
     },
     "execution_count": 2,
     "metadata": {},
     "output_type": "execute_result"
    }
   ],
   "source": [
    "matrix_multiply([1,2,3],[[1,2,3],[4,5,6],[7,8,9]])"
   ]
  },
  {
   "cell_type": "code",
   "execution_count": 3,
   "metadata": {},
   "outputs": [
    {
     "name": "stdout",
     "output_type": "stream",
     "text": [
      "ValueError: requires_grad.setter, requires_grad must be a boolean\n"
     ]
    }
   ],
   "source": [
    "matrix.requires_grad=0"
   ]
  },
  {
   "cell_type": "code",
   "execution_count": 4,
   "metadata": {},
   "outputs": [],
   "source": [
    "matrix.dtype='float64'"
   ]
  },
  {
   "cell_type": "code",
   "execution_count": 5,
   "metadata": {},
   "outputs": [
    {
     "data": {
      "text/plain": [
       "Tensor([[1, 2, 3], [4, 5, 6]], dtype=int64, requires_grad=False, is_leaf=True)"
      ]
     },
     "execution_count": 5,
     "metadata": {},
     "output_type": "execute_result"
    }
   ],
   "source": [
    "# matrix.dtype='int32'\n",
    "matrix.dtype='int64'\n",
    "matrix"
   ]
  },
  {
   "cell_type": "code",
   "execution_count": 12,
   "metadata": {},
   "outputs": [
    {
     "name": "stdout",
     "output_type": "stream",
     "text": [
      "[[8, 10, 12], [14, 16, 18]]\n"
     ]
    },
    {
     "data": {
      "text/plain": [
       "2"
      ]
     },
     "execution_count": 12,
     "metadata": {},
     "output_type": "execute_result"
    }
   ],
   "source": [
    "def add_nested_lists(list1, list2):\n",
    "    '''this performs addition on multidimensional lists (including numerics)'''\n",
    "    if isinstance(list1, list) and isinstance(list2, list):\n",
    "        return [add_nested_lists(x, y) for x, y in zip(list1, list2)]\n",
    "    else:\n",
    "        return list1 + list2\n",
    "\n",
    "list1 = [[1, 2, 3], [4, 5, 6]]\n",
    "list2 = [[7, 8, 9], [10, 11, 12]]\n",
    "\n",
    "result = add_nested_lists(list1, list2)\n",
    "print(result)\n",
    "\n",
    "add_nested_lists(1,1) #works well for scalars"
   ]
  },
  {
   "cell_type": "code",
   "execution_count": 17,
   "metadata": {},
   "outputs": [
    {
     "data": {
      "text/plain": [
       "torch.Size([4, 2, 3])"
      ]
     },
     "execution_count": 17,
     "metadata": {},
     "output_type": "execute_result"
    }
   ],
   "source": [
    "import torch\n",
    "\n",
    "t=torch.tensor([[[1,2,3],[4,5,6]],[[7,8,9],[10,11,12]], [[13,14,15],[16,17,18]], [[19,20,21],[22,23,24]]])\n",
    "t.shape"
   ]
  },
  {
   "cell_type": "code",
   "execution_count": 19,
   "metadata": {},
   "outputs": [
    {
     "data": {
      "text/plain": [
       "tensor([[[ 1,  2,  3],\n",
       "         [ 4,  5,  6]],\n",
       "\n",
       "        [[ 7,  8,  9],\n",
       "         [10, 11, 12]],\n",
       "\n",
       "        [[13, 14, 15],\n",
       "         [16, 17, 18]],\n",
       "\n",
       "        [[19, 20, 21],\n",
       "         [22, 23, 24]]])"
      ]
     },
     "execution_count": 19,
     "metadata": {},
     "output_type": "execute_result"
    }
   ],
   "source": [
    "t"
   ]
  },
  {
   "cell_type": "code",
   "execution_count": 20,
   "metadata": {},
   "outputs": [
    {
     "data": {
      "text/plain": [
       "tensor([[[ 1,  7, 13, 19],\n",
       "         [ 4, 10, 16, 22]],\n",
       "\n",
       "        [[ 2,  8, 14, 20],\n",
       "         [ 5, 11, 17, 23]],\n",
       "\n",
       "        [[ 3,  9, 15, 21],\n",
       "         [ 6, 12, 18, 24]]])"
      ]
     },
     "execution_count": 20,
     "metadata": {},
     "output_type": "execute_result"
    }
   ],
   "source": [
    "t.T"
   ]
  },
  {
   "cell_type": "code",
   "execution_count": 25,
   "metadata": {},
   "outputs": [
    {
     "data": {
      "text/plain": [
       "[(1, 4, 7), (2, 5, 8), (3, 6, 9)]"
      ]
     },
     "execution_count": 25,
     "metadata": {},
     "output_type": "execute_result"
    }
   ],
   "source": [
    "def transpose_2dlist(list1):\n",
    "    '''this performs transpose on multidimensional lists'''\n",
    "    if isinstance(list1, list):\n",
    "        return [transpose_2dlist(x) for x in zip(*list1)]\n",
    "    else:\n",
    "        return list1\n",
    "    \n",
    "list1 = [[1, 2, 3], [4, 5, 6], [7, 8, 9]]\n",
    "list2=[[[1,2,3],[4,5,6]],[[7,8,9],[10,11,12]], [[13,14,15],[16,17,18]], [[19,20,21],[22,23,24]]]\n",
    "transpose_2dlist(list1)"
   ]
  },
  {
   "cell_type": "code",
   "execution_count": 26,
   "metadata": {},
   "outputs": [
    {
     "name": "stdout",
     "output_type": "stream",
     "text": [
      "TypeError: len(), tensor is a scalar with 0 dimensions\n"
     ]
    },
    {
     "ename": "TypeError",
     "evalue": "'NoneType' object cannot be interpreted as an integer",
     "output_type": "error",
     "traceback": [
      "\u001b[0;31m---------------------------------------------------------------------------\u001b[0m",
      "\u001b[0;31mTypeError\u001b[0m                                 Traceback (most recent call last)",
      "Cell \u001b[0;32mIn[26], line 13\u001b[0m\n\u001b[1;32m     10\u001b[0m         \u001b[38;5;28;01mreturn\u001b[39;00m transpose_2dlist(list1)\n\u001b[1;32m     11\u001b[0m     transpose_recursive(matrix, ndim)\n\u001b[0;32m---> 13\u001b[0m \u001b[43mtranspose_3dlist\u001b[49m\u001b[43m(\u001b[49m\u001b[43mlist2\u001b[49m\u001b[43m)\u001b[49m\n",
      "Cell \u001b[0;32mIn[26], line 11\u001b[0m, in \u001b[0;36mtranspose_3dlist\u001b[0;34m(list1)\u001b[0m\n\u001b[1;32m      9\u001b[0m \u001b[38;5;28;01mif\u001b[39;00m ndim\u001b[38;5;241m==\u001b[39m\u001b[38;5;241m2\u001b[39m:\n\u001b[1;32m     10\u001b[0m     \u001b[38;5;28;01mreturn\u001b[39;00m transpose_2dlist(list1)\n\u001b[0;32m---> 11\u001b[0m \u001b[43mtranspose_recursive\u001b[49m\u001b[43m(\u001b[49m\u001b[43mmatrix\u001b[49m\u001b[43m,\u001b[49m\u001b[43m \u001b[49m\u001b[43mndim\u001b[49m\u001b[43m)\u001b[49m\n",
      "Cell \u001b[0;32mIn[26], line 4\u001b[0m, in \u001b[0;36mtranspose_recursive\u001b[0;34m(lst, depth)\u001b[0m\n\u001b[1;32m      2\u001b[0m \u001b[38;5;28;01mif\u001b[39;00m depth \u001b[38;5;241m==\u001b[39m \u001b[38;5;241m1\u001b[39m:\n\u001b[1;32m      3\u001b[0m     \u001b[38;5;28;01mreturn\u001b[39;00m lst\n\u001b[0;32m----> 4\u001b[0m \u001b[38;5;28;01mreturn\u001b[39;00m [\u001b[43mtranspose_recursive\u001b[49m\u001b[43m(\u001b[49m\u001b[43m[\u001b[49m\u001b[43mrow\u001b[49m\u001b[43m[\u001b[49m\u001b[43mi\u001b[49m\u001b[43m]\u001b[49m\u001b[43m \u001b[49m\u001b[38;5;28;43;01mfor\u001b[39;49;00m\u001b[43m \u001b[49m\u001b[43mrow\u001b[49m\u001b[43m \u001b[49m\u001b[38;5;129;43;01min\u001b[39;49;00m\u001b[43m \u001b[49m\u001b[43mlst\u001b[49m\u001b[43m]\u001b[49m\u001b[43m,\u001b[49m\u001b[43m \u001b[49m\u001b[43mdepth\u001b[49m\u001b[43m \u001b[49m\u001b[38;5;241;43m-\u001b[39;49m\u001b[43m \u001b[49m\u001b[38;5;241;43m1\u001b[39;49m\u001b[43m)\u001b[49m \u001b[38;5;28;01mfor\u001b[39;00m i \u001b[38;5;129;01min\u001b[39;00m \u001b[38;5;28mrange\u001b[39m(\u001b[38;5;28mlen\u001b[39m(lst[\u001b[38;5;241m0\u001b[39m]))]\n",
      "Cell \u001b[0;32mIn[26], line 4\u001b[0m, in \u001b[0;36mtranspose_recursive\u001b[0;34m(lst, depth)\u001b[0m\n\u001b[1;32m      2\u001b[0m \u001b[38;5;28;01mif\u001b[39;00m depth \u001b[38;5;241m==\u001b[39m \u001b[38;5;241m1\u001b[39m:\n\u001b[1;32m      3\u001b[0m     \u001b[38;5;28;01mreturn\u001b[39;00m lst\n\u001b[0;32m----> 4\u001b[0m \u001b[38;5;28;01mreturn\u001b[39;00m [transpose_recursive([row[i] \u001b[38;5;28;01mfor\u001b[39;00m row \u001b[38;5;129;01min\u001b[39;00m lst], depth \u001b[38;5;241m-\u001b[39m \u001b[38;5;241m1\u001b[39m) \u001b[38;5;28;01mfor\u001b[39;00m i \u001b[38;5;129;01min\u001b[39;00m \u001b[38;5;28mrange\u001b[39m(\u001b[38;5;28;43mlen\u001b[39;49m\u001b[43m(\u001b[49m\u001b[43mlst\u001b[49m\u001b[43m[\u001b[49m\u001b[38;5;241;43m0\u001b[39;49m\u001b[43m]\u001b[49m\u001b[43m)\u001b[49m)]\n",
      "\u001b[0;31mTypeError\u001b[0m: 'NoneType' object cannot be interpreted as an integer"
     ]
    }
   ],
   "source": [
    "def transpose_recursive(lst, depth):\n",
    "    if depth == 1:\n",
    "        return lst\n",
    "    return [transpose_recursive([row[i] for row in lst], depth - 1) for i in range(len(lst[0]))]\n",
    "\n",
    "def transpose_3dlist(list1):\n",
    "    '''this performs transpose on multidimensional lists'''\n",
    "    ndim=tensor(list1).ndim\n",
    "    if ndim==2:\n",
    "        return transpose_2dlist(list1)\n",
    "    transpose_recursive(matrix, ndim)\n",
    "\n",
    "transpose_3dlist(list2)"
   ]
  }
 ],
 "metadata": {
  "kernelspec": {
   "display_name": "base",
   "language": "python",
   "name": "python3"
  },
  "language_info": {
   "codemirror_mode": {
    "name": "ipython",
    "version": 3
   },
   "file_extension": ".py",
   "mimetype": "text/x-python",
   "name": "python",
   "nbconvert_exporter": "python",
   "pygments_lexer": "ipython3",
   "version": "3.12.2"
  }
 },
 "nbformat": 4,
 "nbformat_minor": 2
}
