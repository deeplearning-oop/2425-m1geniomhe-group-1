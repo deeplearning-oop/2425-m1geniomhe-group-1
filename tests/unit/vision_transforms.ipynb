{
 "cells": [
  {
   "cell_type": "code",
   "execution_count": 1,
   "metadata": {},
   "outputs": [],
   "source": [
    "import os\n",
    "os.chdir('../../src')\n",
    "\n",
    "from dataset import MNIST, viz_ndarray\n",
    "from dataloader import DataLoader\n",
    "from transforms import *\n",
    "from torchvision import datasets, transforms\n",
    "import torch"
   ]
  },
  {
   "cell_type": "code",
   "execution_count": 3,
   "metadata": {},
   "outputs": [
    {
     "name": "stdout",
     "output_type": "stream",
     "text": [
      " >>> data/MNIST/raw/train-labels-idx1-ubyte.gz already exists <<<\n",
      " >>> data/MNIST/raw/train-labels-idx1-ubyte already exists <<<\n",
      " >>> data/MNIST/raw/train-images-idx3-ubyte.gz already exists <<<\n",
      " >>> data/MNIST/raw/train-images-idx3-ubyte already exists <<<\n",
      " >>> data/MNIST/raw/t10k-images-idx3-ubyte.gz already exists <<<\n",
      " >>> data/MNIST/raw/t10k-images-idx3-ubyte already exists <<<\n",
      " >>> data/MNIST/raw/t10k-labels-idx1-ubyte.gz already exists <<<\n",
      " >>> data/MNIST/raw/t10k-labels-idx1-ubyte already exists <<<\n",
      " :O already a tensor\n"
     ]
    },
    {
     "data": {
      "image/png": "[encoded data removed]",
      "text/plain": [
       "<Figure size 640x480 with 1 Axes>"
      ]
     },
     "metadata": {},
     "output_type": "display_data"
    },
    {
     "name": "stdout",
     "output_type": "stream",
     "text": [
      "-- these are examples of training 5 data points (shape of tensor and label):\n",
      "(1, 28, 28) 5\n",
      "(1, 28, 28) 0\n",
      "(1, 28, 28) 4\n",
      "(1, 28, 28) 1\n",
      "(1, 28, 28) 9\n",
      "x type: <class 'tensor.Tensor'> and dtype: float64, y type: <class 'int'>\n",
      "x shape: (1, 28, 28), y shape: no shape its an int\n"
     ]
    }
   ],
   "source": [
    "train_data=MNIST(root='data', train=True, download=True,transform=ToTensor())\n",
    "\n",
    "viz_ndarray(train_data[0][0],label=f'label: {train_data[0][1]}', squeeze=True)\n",
    "print('-- these are examples of training 5 data points (shape of tensor and label):')\n",
    "for i in range(5):\n",
    "    print(train_data[i][0].shape, train_data[i][1])\n",
    "\n",
    "for x,y in train_data:\n",
    "    print(f'x type: {type(x)} and dtype: {x.data.dtype}, y type: {type(y)}')\n",
    "    print(f'x shape: {x.shape}, y shape: no shape its an int')\n",
    "    break"
   ]
  },
  {
   "cell_type": "code",
   "execution_count": 7,
   "metadata": {},
   "outputs": [
    {
     "name": "stdout",
     "output_type": "stream",
     "text": [
      "-- these are examples of training 5 data points (shape of tensor and label):\n",
      "torch.Size([1, 28, 28]) 5\n",
      "torch.Size([1, 28, 28]) 0\n",
      "torch.Size([1, 28, 28]) 4\n",
      "torch.Size([1, 28, 28]) 1\n",
      "torch.Size([1, 28, 28]) 9\n",
      "x type: <class 'torch.Tensor'> and dtype: torch.float32, y type: <class 'int'>\n",
      "x shape: torch.Size([1, 28, 28]), y shape: no shape its an int\n"
     ]
    }
   ],
   "source": [
    "torch_train_data = datasets.MNIST('data', train=True, download=True, transform=transforms.ToTensor())\n",
    "print('-- these are examples of training 5 data points (shape of tensor and label):')\n",
    "for i in range(5):\n",
    "    print(torch_train_data[i][0].shape, torch_train_data[i][1])\n",
    "for x,y in torch_train_data:\n",
    "    print(f'x type: {type(x)} and dtype: {x.dtype}, y type: {type(y)}')\n",
    "    print(f'x shape: {x.shape}, y shape: no shape its an int')\n",
    "    break"
   ]
  },
  {
   "cell_type": "code",
   "execution_count": 2,
   "metadata": {},
   "outputs": [
    {
     "name": "stdout",
     "output_type": "stream",
     "text": [
      " >>> File downloaded successfully as 'data/MNIST/raw/train-labels-idx1-ubyte.gz'.\n",
      " >>> File downloaded successfully as 'data/MNIST/raw/t10k-labels-idx1-ubyte.gz'.\n",
      " >>> File downloaded successfully as 'data/MNIST/raw/t10k-images-idx3-ubyte.gz'.\n",
      " >>> File downloaded successfully as 'data/MNIST/raw/train-images-idx3-ubyte.gz'.\n",
      "tensor(True)\n"
     ]
    }
   ],
   "source": [
    "# validation that MNIST is the same\n",
    "\n",
    "# validation\n",
    "\n",
    "my_train_data=MNIST(root='data',train=True) #Dataset\n",
    "my_train_tensor=my_train_data.data #Tensor\n",
    "my_train_ndarray=my_train_tensor.data #ndarray\n",
    "my_train_in_torch_tensor=torch.tensor(my_train_ndarray) #torch.tensor\n",
    "\n",
    "torch_train_data=datasets.MNIST(root='data',train=True,download=True) #torchvision.datasets.MNIST\n",
    "torch_train_tensor=torch_train_data.data #torch.Tensor\n",
    "# print(type(torch_train_data.data)) # <class 'torch.Tensor'>\n",
    "\n",
    "print(torch.all(my_train_in_torch_tensor==torch_train_tensor))\n",
    "# tensor(True)"
   ]
  },
  {
   "cell_type": "markdown",
   "metadata": {},
   "source": [
    "# Transforms"
   ]
  },
  {
   "cell_type": "markdown",
   "metadata": {},
   "source": [
    "### ToTensor"
   ]
  },
  {
   "cell_type": "code",
   "execution_count": 12,
   "metadata": {},
   "outputs": [
    {
     "name": "stdout",
     "output_type": "stream",
     "text": [
      " >>> data/MNIST/raw/t10k-labels-idx1-ubyte.gz already exists <<<\n",
      " >>> data/MNIST/raw/t10k-labels-idx1-ubyte already exists <<<\n",
      " >>> data/MNIST/raw/train-images-idx3-ubyte.gz already exists <<<\n",
      " >>> data/MNIST/raw/train-images-idx3-ubyte already exists <<<\n",
      " >>> data/MNIST/raw/t10k-images-idx3-ubyte.gz already exists <<<\n",
      " >>> data/MNIST/raw/t10k-images-idx3-ubyte already exists <<<\n",
      " >>> data/MNIST/raw/train-labels-idx1-ubyte.gz already exists <<<\n",
      " >>> data/MNIST/raw/train-labels-idx1-ubyte already exists <<<\n",
      "before transform: min: 0, max: 255\n",
      " :O already a tensor\n",
      "after transform: min: 0.0, max: 1.0\n"
     ]
    }
   ],
   "source": [
    "transformation=ToTensor()\n",
    "train_data=MNIST(root='data', train=True, download=True)\n",
    "\n",
    "x=train_data[0][0]\n",
    "print(f'before transform: min: {np.min(x.data)}, max: {np.max(x.data)}')\n",
    "transformation(x) #performs transformation inplace, now x is modified\n",
    "print(f'after transform: min: {np.min(x.data)}, max: {np.max(x.data)}')"
   ]
  },
  {
   "cell_type": "markdown",
   "metadata": {},
   "source": [
    "Now putting it into use:"
   ]
  },
  {
   "cell_type": "code",
   "execution_count": 13,
   "metadata": {},
   "outputs": [
    {
     "name": "stdout",
     "output_type": "stream",
     "text": [
      " >>> data/MNIST/raw/t10k-labels-idx1-ubyte.gz already exists <<<\n",
      " >>> data/MNIST/raw/t10k-labels-idx1-ubyte already exists <<<\n",
      " >>> data/MNIST/raw/train-images-idx3-ubyte.gz already exists <<<\n",
      " >>> data/MNIST/raw/train-images-idx3-ubyte already exists <<<\n",
      " >>> data/MNIST/raw/t10k-images-idx3-ubyte.gz already exists <<<\n",
      " >>> data/MNIST/raw/t10k-images-idx3-ubyte already exists <<<\n",
      " >>> data/MNIST/raw/train-labels-idx1-ubyte.gz already exists <<<\n",
      " >>> data/MNIST/raw/train-labels-idx1-ubyte already exists <<<\n",
      " :O already a tensor\n",
      "with toTensor, min: 0.0, max: 1.0\n"
     ]
    }
   ],
   "source": [
    "train_data_toTensor=MNIST(root='data', train=True, download=True, transform=ToTensor())\n",
    "x=train_data_toTensor[0][0]\n",
    "print(f'with toTensor, min: {np.min(x.data)}, max: {np.max(x.data)}')"
   ]
  },
  {
   "cell_type": "markdown",
   "metadata": {},
   "source": [
    "## Normalize"
   ]
  },
  {
   "cell_type": "code",
   "execution_count": 14,
   "metadata": {},
   "outputs": [
    {
     "name": "stdout",
     "output_type": "stream",
     "text": [
      " >>> data/MNIST/raw/t10k-labels-idx1-ubyte.gz already exists <<<\n",
      " >>> data/MNIST/raw/t10k-labels-idx1-ubyte already exists <<<\n",
      " >>> data/MNIST/raw/train-images-idx3-ubyte.gz already exists <<<\n",
      " >>> data/MNIST/raw/train-images-idx3-ubyte already exists <<<\n",
      " >>> data/MNIST/raw/t10k-images-idx3-ubyte.gz already exists <<<\n",
      " >>> data/MNIST/raw/t10k-images-idx3-ubyte already exists <<<\n",
      " >>> data/MNIST/raw/train-labels-idx1-ubyte.gz already exists <<<\n",
      " >>> data/MNIST/raw/train-labels-idx1-ubyte already exists <<<\n",
      "\n",
      "before transform: Tensor([1 2 3 4 5], requires_grad=False)\n",
      "\t mean: 3.0, std: 1.4142135623730951\n",
      "after transform: Tensor([-1.41421356 -0.70710678  0.          0.70710678  1.41421356], requires_grad=False)\n",
      "\t mean: 0.0, std: 0.9999999999999999\n"
     ]
    }
   ],
   "source": [
    "# -- the default behavior=> standardizes tensor so should have mean 0 and std 1 is works\n",
    "transformation=Normalize(inplace=True) \n",
    "train_data=MNIST(root='data', train=True, download=True)\n",
    "\n",
    "x=Tensor([1,2,3,4,5])\n",
    "print(f'\\nbefore transform: {x}\\n\\t mean: {np.mean(x.data)}, std: {np.std(x.data)}')\n",
    "transformation(x) #performs transformation inplace, now x is modified\n",
    "print(f'after transform: {x}\\n\\t mean: {np.mean(x.data)}, std: {np.std(x.data)}')\n"
   ]
  },
  {
   "cell_type": "code",
   "execution_count": 15,
   "metadata": {},
   "outputs": [
    {
     "name": "stdout",
     "output_type": "stream",
     "text": [
      " >>> data/MNIST/raw/t10k-labels-idx1-ubyte.gz already exists <<<\n",
      " >>> data/MNIST/raw/t10k-labels-idx1-ubyte already exists <<<\n",
      " >>> data/MNIST/raw/train-images-idx3-ubyte.gz already exists <<<\n",
      " >>> data/MNIST/raw/train-images-idx3-ubyte already exists <<<\n",
      " >>> data/MNIST/raw/t10k-images-idx3-ubyte.gz already exists <<<\n",
      " >>> data/MNIST/raw/t10k-images-idx3-ubyte already exists <<<\n",
      " >>> data/MNIST/raw/train-labels-idx1-ubyte.gz already exists <<<\n",
      " >>> data/MNIST/raw/train-labels-idx1-ubyte already exists <<<\n",
      "with Normalize, mean: 0.022782921000724925, std: 1.0137631855674378\n"
     ]
    }
   ],
   "source": [
    "train_data_Normalize=MNIST(root='data', train=True, download=True, transform=Normalize())\n",
    "x=train_data_Normalize[0][0]\n",
    "print(f'with Normalize, mean: {np.mean(x.data)}, std: {np.std(x.data)}')"
   ]
  },
  {
   "cell_type": "markdown",
   "metadata": {},
   "source": [
    "## Compose"
   ]
  },
  {
   "cell_type": "code",
   "execution_count": 2,
   "metadata": {},
   "outputs": [
    {
     "name": "stdout",
     "output_type": "stream",
     "text": [
      " >>> data/MNIST/raw/train-images-idx3-ubyte.gz already exists <<<\n",
      " >>> data/MNIST/raw/train-images-idx3-ubyte already exists <<<\n",
      " >>> data/MNIST/raw/train-labels-idx1-ubyte.gz already exists <<<\n",
      " >>> data/MNIST/raw/train-labels-idx1-ubyte already exists <<<\n",
      " >>> data/MNIST/raw/t10k-labels-idx1-ubyte.gz already exists <<<\n",
      " >>> data/MNIST/raw/t10k-labels-idx1-ubyte already exists <<<\n",
      " >>> data/MNIST/raw/t10k-images-idx3-ubyte.gz already exists <<<\n",
      " >>> data/MNIST/raw/t10k-images-idx3-ubyte already exists <<<\n",
      ">>> applying ToTensor()...\n",
      " :O already a tensor\n",
      ">>> applying Normalize(mean=(0.5,), std=(0.5,)), inplace=True...\n",
      ">>> [ToTensor(), Normalize(mean=(0.5,), std=(0.5,)), inplace=True] applied successfully <<<\n"
     ]
    }
   ],
   "source": [
    "transformation=Compose([ToTensor(),Normalize((0.5,),(0.5,))])\n",
    "train_data=MNIST(root='data', train=True, download=True, transform=transformation)"
   ]
  },
  {
   "cell_type": "markdown",
   "metadata": {},
   "source": [
    "# DataLoader"
   ]
  },
  {
   "cell_type": "code",
   "execution_count": 10,
   "metadata": {},
   "outputs": [
    {
     "name": "stdout",
     "output_type": "stream",
     "text": [
      "-- example from our library:\n",
      "x type: <class 'tensor.Tensor'>, y type: <class 'tensor.Tensor'>\n",
      "x shape: (32, 1, 28, 28), y shape: (32,)\n"
     ]
    }
   ],
   "source": [
    "print('-- example from our library:')\n",
    "train_loader = DataLoader(train_data, batch_size=32)\n",
    "\n",
    "for x,y in train_loader:\n",
    "    print(f'x type: {type(x)}, y type: {type(y)}')\n",
    "    print(f'x shape: {x.shape}, y shape: {y.shape}')\n",
    "    # print('data:', x)\n",
    "    # print('label:', y)\n",
    "    break"
   ]
  },
  {
   "cell_type": "code",
   "execution_count": 14,
   "metadata": {},
   "outputs": [
    {
     "name": "stdout",
     "output_type": "stream",
     "text": [
      "batch number: 0 | x shape: (32, 1, 28, 28)  |  y: Tensor([0 6 6 2 8 1 7 9 4 9 7 1 1 9 9 0 6 6 0 0 4 7 9 6 3 8 1 8 8 7 8 7], requires_grad=False), type y: <class 'tensor.Tensor'>\n",
      "batch number: 1 | x shape: (32, 1, 28, 28)  |  y: Tensor([1 9 4 7 1 3 0 5 7 7 0 3 1 9 3 2 5 7 3 9 7 8 9 1 0 4 8 8 0 6 1 4], requires_grad=False), type y: <class 'tensor.Tensor'>\n",
      "batch number: 2 | x shape: (32, 1, 28, 28)  |  y: Tensor([7 7 6 1 6 3 5 9 2 6 8 4 5 2 2 2 8 0 1 7 9 0 7 6 7 4 0 7 5 5 0 1], requires_grad=False), type y: <class 'tensor.Tensor'>\n",
      "batch number: 3 | x shape: (32, 1, 28, 28)  |  y: Tensor([6 6 1 3 6 3 1 1 6 0 1 7 7 9 4 1 4 3 6 0 3 1 7 2 6 0 7 9 7 3 6 1], requires_grad=False), type y: <class 'tensor.Tensor'>\n",
      "batch number: 4 | x shape: (32, 1, 28, 28)  |  y: Tensor([7 5 6 2 5 1 9 4 8 9 6 9 6 7 4 7 3 3 6 2 3 3 2 9 8 9 0 5 2 5 8 8], requires_grad=False), type y: <class 'tensor.Tensor'>\n",
      "batch number: 5 | x shape: (32, 1, 28, 28)  |  y: Tensor([1 3 1 3 9 4 6 0 7 4 7 0 4 2 0 3 4 7 9 4 5 1 6 6 9 5 7 2 9 8 0 0], requires_grad=False), type y: <class 'tensor.Tensor'>\n"
     ]
    }
   ],
   "source": [
    "for i,(x, y) in enumerate(train_loader):\n",
    "    print(f'batch number: {i} | x shape: {x.shape}  |  y: {y}, type y: {type(y)}')\n",
    "    if i==5:\n",
    "        break"
   ]
  },
  {
   "cell_type": "code",
   "execution_count": 11,
   "metadata": {},
   "outputs": [
    {
     "name": "stdout",
     "output_type": "stream",
     "text": [
      "-- example from torch:\n",
      "x type: <class 'torch.Tensor'> and dtype: torch.float32, y type: <class 'torch.Tensor'>\n",
      "x shape: torch.Size([32, 1, 28, 28]), y shape: torch.Size([32])\n"
     ]
    }
   ],
   "source": [
    "print('-- example from torch:')\n",
    "torch_train_loader=torch.utils.data.DataLoader(torch_train_data, batch_size=32)\n",
    "\n",
    "for x,y in torch_train_loader:\n",
    "    print(f'x type: {type(x)} and dtype: {x.dtype}, y type: {type(y)}')\n",
    "    print(f'x shape: {x.shape}, y shape: {y.shape}')\n",
    "    # print('data:', x)\n",
    "    # print('label:', y)\n",
    "    break"
   ]
  },
  {
   "cell_type": "code",
   "execution_count": 15,
   "metadata": {},
   "outputs": [
    {
     "name": "stdout",
     "output_type": "stream",
     "text": [
      "batch number: 0 | x shape: torch.Size([32, 1, 28, 28])  |  y: tensor([5, 0, 4, 1, 9, 2, 1, 3, 1, 4, 3, 5, 3, 6, 1, 7, 2, 8, 6, 9, 4, 0, 9, 1,\n",
      "        1, 2, 4, 3, 2, 7, 3, 8]), type y: <class 'torch.Tensor'>\n",
      "batch number: 1 | x shape: torch.Size([32, 1, 28, 28])  |  y: tensor([6, 9, 0, 5, 6, 0, 7, 6, 1, 8, 7, 9, 3, 9, 8, 5, 9, 3, 3, 0, 7, 4, 9, 8,\n",
      "        0, 9, 4, 1, 4, 4, 6, 0]), type y: <class 'torch.Tensor'>\n",
      "batch number: 2 | x shape: torch.Size([32, 1, 28, 28])  |  y: tensor([4, 5, 6, 1, 0, 0, 1, 7, 1, 6, 3, 0, 2, 1, 1, 7, 9, 0, 2, 6, 7, 8, 3, 9,\n",
      "        0, 4, 6, 7, 4, 6, 8, 0]), type y: <class 'torch.Tensor'>\n",
      "batch number: 3 | x shape: torch.Size([32, 1, 28, 28])  |  y: tensor([7, 8, 3, 1, 5, 7, 1, 7, 1, 1, 6, 3, 0, 2, 9, 3, 1, 1, 0, 4, 9, 2, 0, 0,\n",
      "        2, 0, 2, 7, 1, 8, 6, 4]), type y: <class 'torch.Tensor'>\n",
      "batch number: 4 | x shape: torch.Size([32, 1, 28, 28])  |  y: tensor([1, 6, 3, 4, 5, 9, 1, 3, 3, 8, 5, 4, 7, 7, 4, 2, 8, 5, 8, 6, 7, 3, 4, 6,\n",
      "        1, 9, 9, 6, 0, 3, 7, 2]), type y: <class 'torch.Tensor'>\n",
      "batch number: 5 | x shape: torch.Size([32, 1, 28, 28])  |  y: tensor([8, 2, 9, 4, 4, 6, 4, 9, 7, 0, 9, 2, 9, 5, 1, 5, 9, 1, 2, 3, 2, 3, 5, 9,\n",
      "        1, 7, 6, 2, 8, 2, 2, 5]), type y: <class 'torch.Tensor'>\n"
     ]
    }
   ],
   "source": [
    "for i,(x, y) in enumerate(torch_train_loader):\n",
    "    print(f'batch number: {i} | x shape: {x.shape}  |  y: {y}, type y: {type(y)}')\n",
    "    if i==5:\n",
    "        break"
   ]
  }
 ],
 "metadata": {
  "kernelspec": {
   "display_name": "base",
   "language": "python",
   "name": "python3"
  },
  "language_info": {
   "codemirror_mode": {
    "name": "ipython",
    "version": 3
   },
   "file_extension": ".py",
   "mimetype": "text/x-python",
   "name": "python",
   "nbconvert_exporter": "python",
   "pygments_lexer": "ipython3",
   "version": "3.12.2"
  }
 },
 "nbformat": 4,
 "nbformat_minor": 2
}
