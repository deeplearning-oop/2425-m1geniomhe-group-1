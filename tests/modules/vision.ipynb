{
 "cells": [
  {
   "cell_type": "code",
   "execution_count": 1,
   "metadata": {},
   "outputs": [],
   "source": [
    "from dataset import MNIST, viz_ndarray\n",
    "from dataloader import DataLoader\n",
    "from transforms import *\n",
    "from torchvision import datasets, transforms\n",
    "import torch"
   ]
  },
  {
   "cell_type": "code",
   "execution_count": null,
   "metadata": {},
   "outputs": [],
   "source": [
    "train_data=MNIST(root='data', train=True, download=True)\n",
    "\n",
    "viz_ndarray(train_data[0][0],label=f'label: {train_data[0][1]}', squeeze=True)\n",
    "print('-- these are examples of training 5 data points (shape of tensor and label):')\n",
    "for i in range(5):\n",
    "    print(train_data[i][0].shape, train_data[i][1])\n",
    "\n",
    "for x,y in train_data:\n",
    "    print(f'x type: {type(x)}, y type: {type(y)}')\n",
    "    print(f'x shape: {x.shape}, y shape: no shape its an int')\n",
    "    break"
   ]
  },
  {
   "cell_type": "code",
   "execution_count": null,
   "metadata": {},
   "outputs": [],
   "source": [
    "torch_train_data = datasets.MNIST('data', train=True, download=True)\n",
    "print('-- these are examples of training 5 data points (shape of tensor and label):')\n",
    "for i in range(5):\n",
    "    print(torch_train_data[i][0].shape, torch_train_data[i][1])\n",
    "for x,y in torch_train_data:\n",
    "    print(f'x type: {type(x)} and dtype: {x.dtype}, y type: {type(y)}')\n",
    "    print(f'x shape: {x.shape}, y shape: no shape its an int')\n",
    "    break"
   ]
  },
  {
   "cell_type": "markdown",
   "metadata": {},
   "source": [
    "# Transforms"
   ]
  },
  {
   "cell_type": "markdown",
   "metadata": {},
   "source": [
    "### ToTensor"
   ]
  },
  {
   "cell_type": "code",
   "execution_count": null,
   "metadata": {},
   "outputs": [],
   "source": [
    "train_data=MNIST(root='data', train=True, download=True)\n",
    "\n",
    "x=train_data[0][0]\n",
    "print(f'before transform: min: {np.min(x.data)}, max: {np.max(x.data)}')\n",
    "ToTensor()(x) #performs transformation inplace, now x is modified\n",
    "print(f'after transform: min: {np.min(x.data)}, max: {np.max(x.data)}')"
   ]
  },
  {
   "cell_type": "markdown",
   "metadata": {},
   "source": [
    "Now putting it into use:"
   ]
  },
  {
   "cell_type": "code",
   "execution_count": null,
   "metadata": {},
   "outputs": [],
   "source": [
    "train_data=MNIST(root='data', train=True, download=True, transform=ToTensor())"
   ]
  },
  {
   "cell_type": "markdown",
   "metadata": {},
   "source": [
    "# DataLoader"
   ]
  },
  {
   "cell_type": "code",
   "execution_count": 17,
   "metadata": {},
   "outputs": [],
   "source": [
    "train_loader = DataLoader(train_data, batch_size=32)"
   ]
  },
  {
   "cell_type": "code",
   "execution_count": null,
   "metadata": {},
   "outputs": [],
   "source": [
    "for x,y in train_loader:\n",
    "    print(f'x type: {type(x)}, y type: {type(y)}')\n",
    "    print(f'x shape: {x.shape}, y shape: {y.shape}')\n",
    "    print('data:', x)\n",
    "    print('label:', y)\n",
    "    break"
   ]
  },
  {
   "cell_type": "code",
   "execution_count": null,
   "metadata": {},
   "outputs": [],
   "source": [
    "torch_train_loader=torch.utils.data.DataLoader(torch_train_data, batch_size=32)\n",
    "\n",
    "for x,y in torch_train_loader:\n",
    "    print(f'x type: {type(x)} and dtype: {x.dtype}, y type: {type(y)}')\n",
    "    print(f'x shape: {x.shape}, y shape: {y.shape}')\n",
    "    print('data:', x)\n",
    "    print('label:', y)\n",
    "    break"
   ]
  },
  {
   "cell_type": "code",
   "execution_count": null,
   "metadata": {},
   "outputs": [],
   "source": [
    "for i,(x, y) in enumerate(train_loader):\n",
    "    print(f'batch number: {i} | x shape: {x.shape}  |  y: {y}, type y: {type(y)}')\n",
    "    if i==5:\n",
    "        break"
   ]
  }
 ],
 "metadata": {
  "kernelspec": {
   "display_name": "base",
   "language": "python",
   "name": "python3"
  },
  "language_info": {
   "codemirror_mode": {
    "name": "ipython",
    "version": 3
   },
   "file_extension": ".py",
   "mimetype": "text/x-python",
   "name": "python",
   "nbconvert_exporter": "python",
   "pygments_lexer": "ipython3",
   "version": "3.12.2"
  }
 },
 "nbformat": 4,
 "nbformat_minor": 2
}
