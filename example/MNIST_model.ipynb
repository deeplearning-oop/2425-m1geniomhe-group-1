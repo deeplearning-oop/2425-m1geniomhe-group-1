{
 "cells": [
  {
   "cell_type": "markdown",
   "metadata": {},
   "source": [
    "# che3le 🔥 - A Neural Network Library\n",
    "\n",
    "[![GitHub](https://img.shields.io/badge/GitHub-che3le-black)](https://github.com/deeplearning-oop/2425-m1geniomhe-group-1)[![Version](https://img.shields.io/badge/version-1.0.1-grassgreen)](./dev/changelog.md)  ![Build](https://img.shields.io/badge/installation-pip-brightgreen) [![Python](https://img.shields.io/badge/python-3.6+-blue)](https://www.python.org/downloads/release/python-390/)  [![License](https://img.shields.io/badge/license-MIT-orange)](./LICENSE.md)  [![Submission](https://img.shields.io/badge/submission-successful_:\\)-yellow)](./docs/readme.md)\n",
    "\n",
    "This is a demo notebook to portray the performance of out neural network library called `che3le`. For reference please check the [github repository](https://github.com/deeplearning-oop/2425-m1geniomhe-group-1).  \n",
    "\n",
    "`che3le` is an arabic word used in the lebanese dialect to refer to a \"flame\" or \"torch\", pronounced as _\"she'le\"_"
   ]
  },
  {
   "cell_type": "markdown",
   "metadata": {},
   "source": [
    "## Set up 🛠\n",
    "\n",
    "Installing library and importing it"
   ]
  },
  {
   "cell_type": "code",
   "execution_count": 3,
   "metadata": {},
   "outputs": [
    {
     "name": "stdout",
     "output_type": "stream",
     "text": [
      "Collecting git+https://github.com/deeplearning-oop/2425-m1geniomhe-group-1.git\n",
      "  Cloning https://github.com/deeplearning-oop/2425-m1geniomhe-group-1.git to /tmp/pip-req-build-bqgzju51\n",
      "  Running command git clone --filter=blob:none --quiet https://github.com/deeplearning-oop/2425-m1geniomhe-group-1.git /tmp/pip-req-build-bqgzju51\n",
      "  Resolved https://github.com/deeplearning-oop/2425-m1geniomhe-group-1.git to commit abad9c8d0ce2c034dbb92d752851770dfa36b179\n",
      "  Preparing metadata (setup.py) ... \u001b[?25ldone\n",
      "\u001b[?25hRequirement already satisfied: numpy==2.0.2 in /home/raysas/miniconda3/lib/python3.12/site-packages (from che3le==1.0.1) (2.0.2)\n",
      "Requirement already satisfied: opencv-contrib-python==4.10.0.84 in /home/raysas/miniconda3/lib/python3.12/site-packages (from che3le==1.0.1) (4.10.0.84)\n",
      "Requirement already satisfied: matplotlib==3.10.0 in /home/raysas/miniconda3/lib/python3.12/site-packages (from che3le==1.0.1) (3.10.0)\n",
      "Requirement already satisfied: scikit-learn==1.5.2 in /home/raysas/miniconda3/lib/python3.12/site-packages (from che3le==1.0.1) (1.5.2)\n",
      "Requirement already satisfied: pandas==2.2.3 in /home/raysas/miniconda3/lib/python3.12/site-packages (from che3le==1.0.1) (2.2.3)\n",
      "Requirement already satisfied: IPython==8.32.0 in /home/raysas/miniconda3/lib/python3.12/site-packages (from che3le==1.0.1) (8.32.0)\n",
      "Requirement already satisfied: requests==2.32.3 in /home/raysas/miniconda3/lib/python3.12/site-packages (from che3le==1.0.1) (2.32.3)\n",
      "Requirement already satisfied: decorator in /home/raysas/miniconda3/lib/python3.12/site-packages (from IPython==8.32.0->che3le==1.0.1) (5.1.1)\n",
      "Requirement already satisfied: jedi>=0.16 in /home/raysas/miniconda3/lib/python3.12/site-packages (from IPython==8.32.0->che3le==1.0.1) (0.19.1)\n",
      "Requirement already satisfied: matplotlib-inline in /home/raysas/miniconda3/lib/python3.12/site-packages (from IPython==8.32.0->che3le==1.0.1) (0.1.7)\n",
      "Requirement already satisfied: pexpect>4.3 in /home/raysas/miniconda3/lib/python3.12/site-packages (from IPython==8.32.0->che3le==1.0.1) (4.9.0)\n",
      "Requirement already satisfied: prompt_toolkit<3.1.0,>=3.0.41 in /home/raysas/miniconda3/lib/python3.12/site-packages (from IPython==8.32.0->che3le==1.0.1) (3.0.50)\n",
      "Requirement already satisfied: pygments>=2.4.0 in /home/raysas/miniconda3/lib/python3.12/site-packages (from IPython==8.32.0->che3le==1.0.1) (2.18.0)\n",
      "Requirement already satisfied: stack_data in /home/raysas/miniconda3/lib/python3.12/site-packages (from IPython==8.32.0->che3le==1.0.1) (0.6.2)\n",
      "Requirement already satisfied: traitlets>=5.13.0 in /home/raysas/miniconda3/lib/python3.12/site-packages (from IPython==8.32.0->che3le==1.0.1) (5.14.3)\n",
      "Requirement already satisfied: contourpy>=1.0.1 in /home/raysas/miniconda3/lib/python3.12/site-packages (from matplotlib==3.10.0->che3le==1.0.1) (1.3.0)\n",
      "Requirement already satisfied: cycler>=0.10 in /home/raysas/miniconda3/lib/python3.12/site-packages (from matplotlib==3.10.0->che3le==1.0.1) (0.12.1)\n",
      "Requirement already satisfied: fonttools>=4.22.0 in /home/raysas/miniconda3/lib/python3.12/site-packages (from matplotlib==3.10.0->che3le==1.0.1) (4.53.1)\n",
      "Requirement already satisfied: kiwisolver>=1.3.1 in /home/raysas/miniconda3/lib/python3.12/site-packages (from matplotlib==3.10.0->che3le==1.0.1) (1.4.7)\n",
      "Requirement already satisfied: packaging>=20.0 in /home/raysas/miniconda3/lib/python3.12/site-packages (from matplotlib==3.10.0->che3le==1.0.1) (24.1)\n",
      "Requirement already satisfied: pillow>=8 in /home/raysas/miniconda3/lib/python3.12/site-packages (from matplotlib==3.10.0->che3le==1.0.1) (10.4.0)\n",
      "Requirement already satisfied: pyparsing>=2.3.1 in /home/raysas/miniconda3/lib/python3.12/site-packages (from matplotlib==3.10.0->che3le==1.0.1) (3.1.4)\n",
      "Requirement already satisfied: python-dateutil>=2.7 in /home/raysas/miniconda3/lib/python3.12/site-packages (from matplotlib==3.10.0->che3le==1.0.1) (2.9.0)\n",
      "Requirement already satisfied: pytz>=2020.1 in /home/raysas/miniconda3/lib/python3.12/site-packages (from pandas==2.2.3->che3le==1.0.1) (2024.2)\n",
      "Requirement already satisfied: tzdata>=2022.7 in /home/raysas/miniconda3/lib/python3.12/site-packages (from pandas==2.2.3->che3le==1.0.1) (2024.1)\n",
      "Requirement already satisfied: charset-normalizer<4,>=2 in /home/raysas/miniconda3/lib/python3.12/site-packages (from requests==2.32.3->che3le==1.0.1) (3.3.2)\n",
      "Requirement already satisfied: idna<4,>=2.5 in /home/raysas/miniconda3/lib/python3.12/site-packages (from requests==2.32.3->che3le==1.0.1) (3.7)\n",
      "Requirement already satisfied: urllib3<3,>=1.21.1 in /home/raysas/miniconda3/lib/python3.12/site-packages (from requests==2.32.3->che3le==1.0.1) (2.2.2)\n",
      "Requirement already satisfied: certifi>=2017.4.17 in /home/raysas/miniconda3/lib/python3.12/site-packages (from requests==2.32.3->che3le==1.0.1) (2024.8.30)\n",
      "Requirement already satisfied: scipy>=1.6.0 in /home/raysas/miniconda3/lib/python3.12/site-packages (from scikit-learn==1.5.2->che3le==1.0.1) (1.14.1)\n",
      "Requirement already satisfied: joblib>=1.2.0 in /home/raysas/miniconda3/lib/python3.12/site-packages (from scikit-learn==1.5.2->che3le==1.0.1) (1.4.2)\n",
      "Requirement already satisfied: threadpoolctl>=3.1.0 in /home/raysas/miniconda3/lib/python3.12/site-packages (from scikit-learn==1.5.2->che3le==1.0.1) (3.5.0)\n",
      "Requirement already satisfied: parso<0.9.0,>=0.8.3 in /home/raysas/miniconda3/lib/python3.12/site-packages (from jedi>=0.16->IPython==8.32.0->che3le==1.0.1) (0.8.4)\n",
      "Requirement already satisfied: ptyprocess>=0.5 in /home/raysas/miniconda3/lib/python3.12/site-packages (from pexpect>4.3->IPython==8.32.0->che3le==1.0.1) (0.7.0)\n",
      "Requirement already satisfied: wcwidth in /home/raysas/miniconda3/lib/python3.12/site-packages (from prompt_toolkit<3.1.0,>=3.0.41->IPython==8.32.0->che3le==1.0.1) (0.2.13)\n",
      "Requirement already satisfied: six>=1.5 in /home/raysas/miniconda3/lib/python3.12/site-packages (from python-dateutil>=2.7->matplotlib==3.10.0->che3le==1.0.1) (1.16.0)\n",
      "Requirement already satisfied: executing>=1.2.0 in /home/raysas/miniconda3/lib/python3.12/site-packages (from stack_data->IPython==8.32.0->che3le==1.0.1) (2.1.0)\n",
      "Requirement already satisfied: asttokens>=2.1.0 in /home/raysas/miniconda3/lib/python3.12/site-packages (from stack_data->IPython==8.32.0->che3le==1.0.1) (2.4.1)\n",
      "Requirement already satisfied: pure-eval in /home/raysas/miniconda3/lib/python3.12/site-packages (from stack_data->IPython==8.32.0->che3le==1.0.1) (0.2.3)\n",
      "Note: you may need to restart the kernel to use updated packages.\n"
     ]
    }
   ],
   "source": [
    "%pip install git+https://github.com/deeplearning-oop/2425-m1geniomhe-group-1.git"
   ]
  },
  {
   "cell_type": "code",
   "execution_count": 4,
   "metadata": {},
   "outputs": [],
   "source": [
    "from che3le.nn.module import Module\n",
    "from che3le.nn.linear import Linear\n",
    "from che3le.nn.optimizer import SGD\n",
    "from che3le.nn.loss import CrossEntropyLoss\n",
    "from che3le.nn.activation import ReLU, Softmax\n",
    "\n",
    "from che3le.extensions.dataset import MNIST\n",
    "from che3le.extensions.dataloader import DataLoader\n",
    "from che3le.extensions.transforms import Compose, ToTensor, Standardize\n",
    "\n",
    "import numpy as np\n",
    "import matplotlib.pyplot as plt"
   ]
  },
  {
   "cell_type": "markdown",
   "metadata": {},
   "source": [
    "## Load data"
   ]
  },
  {
   "cell_type": "code",
   "execution_count": 5,
   "metadata": {},
   "outputs": [
    {
     "name": "stdout",
     "output_type": "stream",
     "text": [
      " >>> File downloaded successfully as 'data/MNIST/raw/train-images-idx3-ubyte.gz'.\n",
      " >>> File downloaded successfully as 'data/MNIST/raw/train-labels-idx1-ubyte.gz'.\n",
      " >>> File downloaded successfully as 'data/MNIST/raw/t10k-images-idx3-ubyte.gz'.\n",
      " >>> File downloaded successfully as 'data/MNIST/raw/t10k-labels-idx1-ubyte.gz'.\n",
      ">>> applying ToTensor()...\n",
      " :O already a tensor\n",
      ">>> applying Standardize(inplace=True)...\n",
      ">>> [ToTensor(), Standardize(inplace=True)] applied successfully <<<\n",
      " >>> data/MNIST/raw/train-images-idx3-ubyte.gz already exists <<<\n",
      " >>> data/MNIST/raw/train-images-idx3-ubyte already exists <<<\n",
      " >>> data/MNIST/raw/train-labels-idx1-ubyte.gz already exists <<<\n",
      " >>> data/MNIST/raw/train-labels-idx1-ubyte already exists <<<\n",
      " >>> data/MNIST/raw/t10k-images-idx3-ubyte.gz already exists <<<\n",
      " >>> data/MNIST/raw/t10k-images-idx3-ubyte already exists <<<\n",
      " >>> data/MNIST/raw/t10k-labels-idx1-ubyte.gz already exists <<<\n",
      " >>> data/MNIST/raw/t10k-labels-idx1-ubyte already exists <<<\n",
      ">>> applying ToTensor()...\n",
      " :O already a tensor\n",
      ">>> applying Standardize(inplace=True)...\n",
      ">>> [ToTensor(), Standardize(inplace=True)] applied successfully <<<\n"
     ]
    }
   ],
   "source": [
    "# -- using our implemented dataset module\n",
    "transformation=Compose([ToTensor(), Standardize()])\n",
    "train_data = MNIST(root='data/', train=True, download=True,transform=transformation)\n",
    "test_data = MNIST(root='data/', train=False, download=True,transform=transformation)\n",
    "\n",
    "# -- using our implemented dataloader module\n",
    "train_loader = DataLoader(dataset=train_data, batch_size=32, shuffle=True)\n",
    "test_loader = DataLoader(dataset=test_data, batch_size=32, shuffle=True)"
   ]
  },
  {
   "cell_type": "markdown",
   "metadata": {},
   "source": [
    "## Train model"
   ]
  },
  {
   "cell_type": "code",
   "execution_count": 6,
   "metadata": {},
   "outputs": [
    {
     "name": "stdout",
     "output_type": "stream",
     "text": [
      "Run 1 / 10:\n",
      "Accuracy for run 1: 90.24%\n",
      "------------------\n",
      "Run 2 / 10:\n",
      "Accuracy for run 2: 91.50%\n",
      "------------------\n",
      "Run 3 / 10:\n",
      "Accuracy for run 3: 93.00%\n",
      "------------------\n",
      "Run 4 / 10:\n",
      "Accuracy for run 4: 93.98%\n",
      "------------------\n",
      "Run 5 / 10:\n",
      "Accuracy for run 5: 93.97%\n",
      "------------------\n",
      "Run 6 / 10:\n",
      "Accuracy for run 6: 94.22%\n",
      "------------------\n",
      "Run 7 / 10:\n",
      "Accuracy for run 7: 94.53%\n",
      "------------------\n",
      "Run 8 / 10:\n",
      "Accuracy for run 8: 94.48%\n",
      "------------------\n",
      "Run 9 / 10:\n",
      "Accuracy for run 9: 94.76%\n",
      "------------------\n",
      "Run 10 / 10:\n",
      "Accuracy for run 10: 94.89%\n",
      "------------------\n",
      "Average Accuracy over 10 runs: 93.56%\n"
     ]
    }
   ],
   "source": [
    "# -- model definition\n",
    "class Model(Module):\n",
    "    def __init__(self):\n",
    "        super().__init__()\n",
    "        self.linear1 = Linear(28*28,20)\n",
    "        self.relu=ReLU()\n",
    "        self.linear2 = Linear(20, 10)\n",
    "        self.softmax=Softmax()\n",
    "\n",
    "    def forward(self, x):\n",
    "        x = self.linear1(x)\n",
    "        x = self.relu(x)\n",
    "        x = self.linear2(x)\n",
    "        return self.softmax(x)\n",
    "    \n",
    "model = Model()\n",
    "optimizer = SGD(model.parameters(), lr=0.01, momentum=0.9)\n",
    "loss_fn = CrossEntropyLoss()\n",
    "\n",
    "# -- training\n",
    "\n",
    "# List to store accuracies from each run\n",
    "accuracies = []\n",
    "\n",
    "# Run the experiment 10 times\n",
    "for run in range(10):\n",
    "    print(f\"Run {run + 1} / 10:\")\n",
    "    \n",
    "    # -- training loop\n",
    "    for epoch in range(1):  # You can adjust the number of epochs as needed\n",
    "        for batch_no, (x, y) in enumerate(train_loader):\n",
    "            # Flatten the batch (32, 1, 28, 28) to (784, 32)\n",
    "            x = x.flatten_batch()  # (784, 32)\n",
    "\n",
    "            optimizer.zero_grad()\n",
    "            y_hat = model(x)\n",
    "            loss = loss_fn(y, y_hat)\n",
    "            loss.backward()\n",
    "            optimizer.step()\n",
    "    \n",
    "    # -- testing\n",
    "    correct = 0\n",
    "    total = 0\n",
    "\n",
    "    for batch_no, (x, y) in enumerate(test_loader):\n",
    "        x = x.flatten_batch()\n",
    "        y_hat = model(x)\n",
    "        predictions = np.argmax(y_hat, axis=0)\n",
    "        correct += np.sum(predictions == y)\n",
    "        total += y.data.size\n",
    "    \n",
    "    accuracy = correct / total * 100\n",
    "    accuracies.append(accuracy)\n",
    "    \n",
    "    print(f'Accuracy for run {run + 1}: {accuracy:.2f}%')\n",
    "    print('------------------')\n",
    "\n",
    "average_accuracy = sum(accuracies) / len(accuracies)\n",
    "print(f'Average Accuracy over 10 runs: {average_accuracy:.2f}%')\n"
   ]
  },
  {
   "cell_type": "markdown",
   "metadata": {},
   "source": [
    "## Evaluate model"
   ]
  },
  {
   "cell_type": "code",
   "execution_count": 8,
   "metadata": {},
   "outputs": [
    {
     "data": {
      "image/png": "[encoded data removed]",
      "text/plain": [
       "<Figure size 640x480 with 1 Axes>"
      ]
     },
     "metadata": {},
     "output_type": "display_data"
    }
   ],
   "source": [
    "plt.plot(accuracies, marker='o', linestyle='-', color='b', label='Accuracy')\n",
    "plt.title(\"Accuracy over 10 Runs\")\n",
    "plt.xlabel(\"Run\")\n",
    "plt.ylabel(\"Accuracy (%)\")\n",
    "plt.grid(True)\n",
    "plt.legend()\n",
    "plt.show()"
   ]
  }
 ],
 "metadata": {
  "kernelspec": {
   "display_name": "base",
   "language": "python",
   "name": "python3"
  },
  "language_info": {
   "codemirror_mode": {
    "name": "ipython",
    "version": 3
   },
   "file_extension": ".py",
   "mimetype": "text/x-python",
   "name": "python",
   "nbconvert_exporter": "python",
   "pygments_lexer": "ipython3",
   "version": "3.12.2"
  }
 },
 "nbformat": 4,
 "nbformat_minor": 2
}
