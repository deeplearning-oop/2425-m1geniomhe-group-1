{
 "cells": [
  {
   "cell_type": "markdown",
   "metadata": {},
   "source": [
    "# che3le 🔥 - A Neural Network Library\n",
    "\n",
    "[![GitHub](https://img.shields.io/badge/GitHub-che3le-black)](https://github.com/deeplearning-oop/2425-m1geniomhe-group-1)[![Version](https://img.shields.io/badge/version-1.0.1-grassgreen)](./dev/changelog.md)  ![Build](https://img.shields.io/badge/installation-pip-brightgreen) [![Python](https://img.shields.io/badge/python-3.6+-blue)](https://www.python.org/downloads/release/python-390/)  [![License](https://img.shields.io/badge/license-MIT-orange)](./LICENSE.md)  [![Submission](https://img.shields.io/badge/submission-successful_:\\)-yellow)](./docs/readme.md)\n",
    "\n",
    "This is a demo notebook to portray the performance of out neural network library called `che3le`. For reference please check the [github repository](https://github.com/deeplearning-oop/2425-m1geniomhe-group-1).  \n",
    "\n",
    "`che3le` is an arabic word used in the lebanese dialect to refer to a \"flame\" or \"torch\", pronounced as _\"she'le\"_"
   ]
  },
  {
   "cell_type": "markdown",
   "metadata": {},
   "source": [
    "## Set up 🛠\n",
    "\n",
    "Installing library and importing it"
   ]
  },
  {
   "cell_type": "code",
   "execution_count": 1,
   "metadata": {},
   "outputs": [
    {
     "name": "stdout",
     "output_type": "stream",
     "text": [
      "Collecting git+https://github.com/deeplearning-oop/2425-m1geniomhe-group-1.git\n",
      "  Cloning https://github.com/deeplearning-oop/2425-m1geniomhe-group-1.git to /tmp/pip-req-build-jxjyra03\n",
      "  Running command git clone --filter=blob:none --quiet https://github.com/deeplearning-oop/2425-m1geniomhe-group-1.git /tmp/pip-req-build-jxjyra03\n",
      "  Resolved https://github.com/deeplearning-oop/2425-m1geniomhe-group-1.git to commit 69dbb2796e453fdecd9bd0d57dde3c285f47bbdc\n",
      "  Preparing metadata (setup.py) ... \u001b[?25ldone\n",
      "\u001b[?25hRequirement already satisfied: numpy==2.0.2 in /home/raysas/miniconda3/lib/python3.12/site-packages (from ann==1.0.0) (2.0.2)\n",
      "Requirement already satisfied: opencv-contrib-python==4.10.0.84 in /home/raysas/miniconda3/lib/python3.12/site-packages (from ann==1.0.0) (4.10.0.84)\n",
      "Collecting matplotlib==3.4.3 (from ann==1.0.0)\n",
      "  Downloading matplotlib-3.4.3.tar.gz (37.9 MB)\n",
      "\u001b[2K     \u001b[90m━━━━━━━━━━━━━━━━━━━━━━━━━━━━━━━━━━━━━━━━\u001b[0m \u001b[32m37.9/37.9 MB\u001b[0m \u001b[31m8.5 MB/s\u001b[0m eta \u001b[36m0:00:00\u001b[0m00:01\u001b[0m00:01\u001b[0m\n",
      "\u001b[?25h  Preparing metadata (setup.py) ... \u001b[?25lerror\n",
      "  \u001b[1;31merror\u001b[0m: \u001b[1msubprocess-exited-with-error\u001b[0m\n",
      "  \n",
      "  \u001b[31m×\u001b[0m \u001b[32mpython setup.py egg_info\u001b[0m did not run successfully.\n",
      "  \u001b[31m│\u001b[0m exit code: \u001b[1;36m1\u001b[0m\n",
      "  \u001b[31m╰─>\u001b[0m \u001b[31m[28 lines of output]\u001b[0m\n",
      "  \u001b[31m   \u001b[0m /tmp/pip-install-zcmii82l/matplotlib_ccb63d83facf46e386412293ee7f2a3a/setup.py:34: SetuptoolsDeprecationWarning: The test command is disabled and references to it are deprecated.\n",
      "  \u001b[31m   \u001b[0m !!\n",
      "  \u001b[31m   \u001b[0m \n",
      "  \u001b[31m   \u001b[0m         ********************************************************************************\n",
      "  \u001b[31m   \u001b[0m         Please remove any references to `setuptools.command.test` in all supported versions of the affected package.\n",
      "  \u001b[31m   \u001b[0m \n",
      "  \u001b[31m   \u001b[0m         This deprecation is overdue, please update your project and remove deprecated\n",
      "  \u001b[31m   \u001b[0m         calls to avoid build errors in the future.\n",
      "  \u001b[31m   \u001b[0m         ********************************************************************************\n",
      "  \u001b[31m   \u001b[0m \n",
      "  \u001b[31m   \u001b[0m !!\n",
      "  \u001b[31m   \u001b[0m   from setuptools.command.test import test as TestCommand\n",
      "  \u001b[31m   \u001b[0m Traceback (most recent call last):\n",
      "  \u001b[31m   \u001b[0m   File \"<string>\", line 2, in <module>\n",
      "  \u001b[31m   \u001b[0m   File \"<pip-setuptools-caller>\", line 34, in <module>\n",
      "  \u001b[31m   \u001b[0m   File \"/tmp/pip-install-zcmii82l/matplotlib_ccb63d83facf46e386412293ee7f2a3a/setup.py\", line 54, in <module>\n",
      "  \u001b[31m   \u001b[0m     __version__ = versioneer.get_version()\n",
      "  \u001b[31m   \u001b[0m                   ^^^^^^^^^^^^^^^^^^^^^^^^\n",
      "  \u001b[31m   \u001b[0m   File \"/tmp/pip-install-zcmii82l/matplotlib_ccb63d83facf46e386412293ee7f2a3a/versioneer.py\", line 1410, in get_version\n",
      "  \u001b[31m   \u001b[0m     return get_versions()[\"version\"]\n",
      "  \u001b[31m   \u001b[0m            ^^^^^^^^^^^^^^\n",
      "  \u001b[31m   \u001b[0m   File \"/tmp/pip-install-zcmii82l/matplotlib_ccb63d83facf46e386412293ee7f2a3a/versioneer.py\", line 1344, in get_versions\n",
      "  \u001b[31m   \u001b[0m     cfg = get_config_from_root(root)\n",
      "  \u001b[31m   \u001b[0m           ^^^^^^^^^^^^^^^^^^^^^^^^^^\n",
      "  \u001b[31m   \u001b[0m   File \"/tmp/pip-install-zcmii82l/matplotlib_ccb63d83facf46e386412293ee7f2a3a/versioneer.py\", line 401, in get_config_from_root\n",
      "  \u001b[31m   \u001b[0m     parser = configparser.SafeConfigParser()\n",
      "  \u001b[31m   \u001b[0m              ^^^^^^^^^^^^^^^^^^^^^^^^^^^^^\n",
      "  \u001b[31m   \u001b[0m AttributeError: module 'configparser' has no attribute 'SafeConfigParser'. Did you mean: 'RawConfigParser'?\n",
      "  \u001b[31m   \u001b[0m \u001b[31m[end of output]\u001b[0m\n",
      "  \n",
      "  \u001b[1;35mnote\u001b[0m: This error originates from a subprocess, and is likely not a problem with pip.\n",
      "\u001b[?25h\n",
      "\u001b[1m[\u001b[0m\u001b[34;49mnotice\u001b[0m\u001b[1;39;49m]\u001b[0m\u001b[39;49m A new release of pip is available: \u001b[0m\u001b[31;49m24.3.1\u001b[0m\u001b[39;49m -> \u001b[0m\u001b[32;49m25.0.1\u001b[0m\n",
      "\u001b[1m[\u001b[0m\u001b[34;49mnotice\u001b[0m\u001b[1;39;49m]\u001b[0m\u001b[39;49m To update, run: \u001b[0m\u001b[32;49mpip install --upgrade pip\u001b[0m\n",
      "\u001b[1;31merror\u001b[0m: \u001b[1mmetadata-generation-failed\u001b[0m\n",
      "\n",
      "\u001b[31m×\u001b[0m Encountered error while generating package metadata.\n",
      "\u001b[31m╰─>\u001b[0m See above for output.\n",
      "\n",
      "\u001b[1;35mnote\u001b[0m: This is an issue with the package mentioned above, not pip.\n",
      "\u001b[1;36mhint\u001b[0m: See above for details.\n",
      "Note: you may need to restart the kernel to use updated packages.\n"
     ]
    }
   ],
   "source": [
    "%pip install git+https://github.com/deeplearning-oop/2425-m1geniomhe-group-1.git"
   ]
  },
  {
   "cell_type": "code",
   "execution_count": 2,
   "metadata": {},
   "outputs": [
    {
     "ename": "ModuleNotFoundError",
     "evalue": "No module named 'che3le'",
     "output_type": "error",
     "traceback": [
      "\u001b[0;31m---------------------------------------------------------------------------\u001b[0m",
      "\u001b[0;31mModuleNotFoundError\u001b[0m                       Traceback (most recent call last)",
      "Cell \u001b[0;32mIn[2], line 1\u001b[0m\n\u001b[0;32m----> 1\u001b[0m \u001b[38;5;28;01mfrom\u001b[39;00m \u001b[38;5;21;01mche3le\u001b[39;00m\u001b[38;5;21;01m.\u001b[39;00m\u001b[38;5;21;01mnn\u001b[39;00m\u001b[38;5;21;01m.\u001b[39;00m\u001b[38;5;21;01mmodule\u001b[39;00m \u001b[38;5;28;01mimport\u001b[39;00m Module\n\u001b[1;32m      2\u001b[0m \u001b[38;5;28;01mfrom\u001b[39;00m \u001b[38;5;21;01mche3le\u001b[39;00m\u001b[38;5;21;01m.\u001b[39;00m\u001b[38;5;21;01mnn\u001b[39;00m\u001b[38;5;21;01m.\u001b[39;00m\u001b[38;5;21;01mlinear\u001b[39;00m \u001b[38;5;28;01mimport\u001b[39;00m Linear\n\u001b[1;32m      3\u001b[0m \u001b[38;5;28;01mfrom\u001b[39;00m \u001b[38;5;21;01mche3le\u001b[39;00m\u001b[38;5;21;01m.\u001b[39;00m\u001b[38;5;21;01mnn\u001b[39;00m\u001b[38;5;21;01m.\u001b[39;00m\u001b[38;5;21;01moptimizer\u001b[39;00m \u001b[38;5;28;01mimport\u001b[39;00m SGD\n",
      "\u001b[0;31mModuleNotFoundError\u001b[0m: No module named 'che3le'"
     ]
    }
   ],
   "source": [
    "from che3le.nn.module import Module\n",
    "from che3le.nn.linear import Linear\n",
    "from che3le.nn.optimizer import SGD\n",
    "from che3le.nn.loss import CrossEntropyLoss\n",
    "from che3le.nn.activation import ReLU, Softmax\n",
    "\n",
    "from che3le.extensions.dataset import MNIST\n",
    "from che3le.extensions.dataloader import DataLoader\n",
    "from che3le.extensions.transforms import Compose, ToTensor, Standardize\n",
    "\n",
    "import numpy as np\n",
    "import matplotlib.pyplot as plt"
   ]
  },
  {
   "cell_type": "markdown",
   "metadata": {},
   "source": [
    "## Load data"
   ]
  },
  {
   "cell_type": "code",
   "execution_count": null,
   "metadata": {},
   "outputs": [],
   "source": [
    "# -- using our implemented dataset module\n",
    "transformation=Compose([ToTensor(), Standardize()])\n",
    "train_data = MNIST(root='data/', train=True, download=True,transform=transformation)\n",
    "test_data = MNIST(root='data/', train=False, download=True,transform=transformation)\n",
    "\n",
    "# -- using our implemented dataloader module\n",
    "train_loader = DataLoader(dataset=train_data, batch_size=32, shuffle=True)\n",
    "test_loader = DataLoader(dataset=test_data, batch_size=32, shuffle=True)"
   ]
  },
  {
   "cell_type": "markdown",
   "metadata": {},
   "source": [
    "## Train model"
   ]
  },
  {
   "cell_type": "code",
   "execution_count": null,
   "metadata": {},
   "outputs": [],
   "source": [
    "# -- model definition\n",
    "class Model(Module):\n",
    "    def __init__(self):\n",
    "        super().__init__()\n",
    "        self.linear1 = Linear(28*28,20)\n",
    "        self.relu=ReLU()\n",
    "        self.linear2 = Linear(20, 10)\n",
    "        self.softmax=Softmax()\n",
    "\n",
    "    def forward(self, x):\n",
    "        x = self.linear1(x)\n",
    "        x = self.relu(x)\n",
    "        x = self.linear2(x)\n",
    "        return self.softmax(x)\n",
    "    \n",
    "model = Model()\n",
    "optimizer = SGD(model.parameters(), lr=0.01, momentum=0.9)\n",
    "loss_fn = CrossEntropyLoss()\n",
    "\n",
    "# -- training\n",
    "\n",
    "# List to store accuracies from each run\n",
    "accuracies = []\n",
    "\n",
    "# Run the experiment 10 times\n",
    "for run in range(10):\n",
    "    print(f\"Run {run + 1} / 10:\")\n",
    "    \n",
    "    # -- training loop\n",
    "    for epoch in range(1):  # You can adjust the number of epochs as needed\n",
    "        for batch_no, (x, y) in enumerate(train_loader):\n",
    "            # Flatten the batch (32, 1, 28, 28) to (784, 32)\n",
    "            x = x.flatten_batch()  # (784, 32)\n",
    "\n",
    "            optimizer.zero_grad()\n",
    "            y_hat = model(x)\n",
    "            loss = loss_fn(y, y_hat)\n",
    "            loss.backward()\n",
    "            optimizer.step()\n",
    "    \n",
    "    # -- testing\n",
    "    correct = 0\n",
    "    total = 0\n",
    "\n",
    "    for batch_no, (x, y) in enumerate(test_loader):\n",
    "        x = x.flatten_batch()\n",
    "        y_hat = model(x)\n",
    "        predictions = np.argmax(y_hat, axis=0)\n",
    "        correct += np.sum(predictions == y)\n",
    "        total += y.data.size\n",
    "    \n",
    "    accuracy = correct / total * 100\n",
    "    accuracies.append(accuracy)\n",
    "    \n",
    "    print(f'Accuracy for run {run + 1}: {accuracy:.2f}%')\n",
    "    print('------------------')\n",
    "\n",
    "average_accuracy = sum(accuracies) / len(accuracies)\n",
    "print(f'Average Accuracy over 10 runs: {average_accuracy:.2f}%')\n",
    "\n",
    "plt.plot(accuracies)"
   ]
  }
 ],
 "metadata": {
  "kernelspec": {
   "display_name": "base",
   "language": "python",
   "name": "python3"
  },
  "language_info": {
   "codemirror_mode": {
    "name": "ipython",
    "version": 3
   },
   "file_extension": ".py",
   "mimetype": "text/x-python",
   "name": "python",
   "nbconvert_exporter": "python",
   "pygments_lexer": "ipython3",
   "version": "3.12.2"
  }
 },
 "nbformat": 4,
 "nbformat_minor": 2
}
